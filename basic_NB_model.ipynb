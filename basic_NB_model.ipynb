{
 "cells": [
  {
   "cell_type": "code",
   "execution_count": 9,
   "metadata": {},
   "outputs": [],
   "source": [
    "import pandas as pd\n",
    "from sklearn.model_selection import train_test_split\n",
    "from sklearn.metrics import accuracy_score, classification_report, confusion_matrix\n",
    "import re\n",
    "import numpy as np\n",
    "import matplotlib.pyplot as plt"
   ]
  },
  {
   "cell_type": "code",
   "execution_count": 2,
   "metadata": {},
   "outputs": [],
   "source": [
    "data = pd.read_csv('./data/complaints_preprocessed.csv').dropna()"
   ]
  },
  {
   "cell_type": "code",
   "execution_count": 21,
   "metadata": {},
   "outputs": [
    {
     "data": {
      "text/html": [
       "<div>\n",
       "<style scoped>\n",
       "    .dataframe tbody tr th:only-of-type {\n",
       "        vertical-align: middle;\n",
       "    }\n",
       "\n",
       "    .dataframe tbody tr th {\n",
       "        vertical-align: top;\n",
       "    }\n",
       "\n",
       "    .dataframe thead th {\n",
       "        text-align: right;\n",
       "    }\n",
       "</style>\n",
       "<table border=\"1\" class=\"dataframe\">\n",
       "  <thead>\n",
       "    <tr style=\"text-align: right;\">\n",
       "      <th></th>\n",
       "      <th>Consumer complaint narrative</th>\n",
       "      <th>Issue</th>\n",
       "      <th>Issue_Code</th>\n",
       "    </tr>\n",
       "  </thead>\n",
       "  <tbody>\n",
       "    <tr>\n",
       "      <th>40</th>\n",
       "      <td>co villag capit nevada request review basi loa...</td>\n",
       "      <td>Struggling to pay mortgage</td>\n",
       "      <td>4</td>\n",
       "    </tr>\n",
       "    <tr>\n",
       "      <th>60</th>\n",
       "      <td>contact select portfolio servic friday discuss...</td>\n",
       "      <td>Struggling to pay mortgage</td>\n",
       "      <td>4</td>\n",
       "    </tr>\n",
       "    <tr>\n",
       "      <th>72</th>\n",
       "      <td>home foreclos around well fargo sold almost im...</td>\n",
       "      <td>Struggling to pay mortgage</td>\n",
       "      <td>4</td>\n",
       "    </tr>\n",
       "    <tr>\n",
       "      <th>94</th>\n",
       "      <td>us bank na truste banc america fc sent notic i...</td>\n",
       "      <td>Struggling to pay mortgage</td>\n",
       "      <td>4</td>\n",
       "    </tr>\n",
       "    <tr>\n",
       "      <th>126</th>\n",
       "      <td>tri get loan modif continu deni answer time si...</td>\n",
       "      <td>Struggling to pay mortgage</td>\n",
       "      <td>4</td>\n",
       "    </tr>\n",
       "    <tr>\n",
       "      <th>...</th>\n",
       "      <td>...</td>\n",
       "      <td>...</td>\n",
       "      <td>...</td>\n",
       "    </tr>\n",
       "    <tr>\n",
       "      <th>353387</th>\n",
       "      <td>appli loan modif tri lower month amount strugg...</td>\n",
       "      <td>Struggling to pay mortgage</td>\n",
       "      <td>4</td>\n",
       "    </tr>\n",
       "    <tr>\n",
       "      <th>353388</th>\n",
       "      <td>purchas first home togeth time year old offer ...</td>\n",
       "      <td>Struggling to pay mortgage</td>\n",
       "      <td>4</td>\n",
       "    </tr>\n",
       "    <tr>\n",
       "      <th>353389</th>\n",
       "      <td>appli modif due financi hardship experienc she...</td>\n",
       "      <td>Struggling to pay mortgage</td>\n",
       "      <td>4</td>\n",
       "    </tr>\n",
       "    <tr>\n",
       "      <th>353425</th>\n",
       "      <td>honor duti serv countri past year serv includ ...</td>\n",
       "      <td>Struggling to pay mortgage</td>\n",
       "      <td>4</td>\n",
       "    </tr>\n",
       "    <tr>\n",
       "      <th>353430</th>\n",
       "      <td>father acquir hecm revers mortgag properti rev...</td>\n",
       "      <td>Struggling to pay mortgage</td>\n",
       "      <td>4</td>\n",
       "    </tr>\n",
       "  </tbody>\n",
       "</table>\n",
       "<p>17374 rows × 3 columns</p>\n",
       "</div>"
      ],
      "text/plain": [
       "                             Consumer complaint narrative  \\\n",
       "40      co villag capit nevada request review basi loa...   \n",
       "60      contact select portfolio servic friday discuss...   \n",
       "72      home foreclos around well fargo sold almost im...   \n",
       "94      us bank na truste banc america fc sent notic i...   \n",
       "126     tri get loan modif continu deni answer time si...   \n",
       "...                                                   ...   \n",
       "353387  appli loan modif tri lower month amount strugg...   \n",
       "353388  purchas first home togeth time year old offer ...   \n",
       "353389  appli modif due financi hardship experienc she...   \n",
       "353425  honor duti serv countri past year serv includ ...   \n",
       "353430  father acquir hecm revers mortgag properti rev...   \n",
       "\n",
       "                             Issue  Issue_Code  \n",
       "40      Struggling to pay mortgage           4  \n",
       "60      Struggling to pay mortgage           4  \n",
       "72      Struggling to pay mortgage           4  \n",
       "94      Struggling to pay mortgage           4  \n",
       "126     Struggling to pay mortgage           4  \n",
       "...                            ...         ...  \n",
       "353387  Struggling to pay mortgage           4  \n",
       "353388  Struggling to pay mortgage           4  \n",
       "353389  Struggling to pay mortgage           4  \n",
       "353425  Struggling to pay mortgage           4  \n",
       "353430  Struggling to pay mortgage           4  \n",
       "\n",
       "[17374 rows x 3 columns]"
      ]
     },
     "execution_count": 21,
     "metadata": {},
     "output_type": "execute_result"
    }
   ],
   "source": [
    "data[data['Issue_Code'] == 4]"
   ]
  },
  {
   "cell_type": "code",
   "execution_count": 3,
   "metadata": {},
   "outputs": [],
   "source": [
    "X = data['Consumer complaint narrative']\n",
    "y = data['Issue_Code']\n",
    "\n",
    "X_train, X_test, y_train, y_test = train_test_split(X, y, random_state = 321, stratify = y)"
   ]
  },
  {
   "cell_type": "code",
   "execution_count": 4,
   "metadata": {},
   "outputs": [],
   "source": [
    "from sklearn.feature_extraction.text import CountVectorizer\n",
    "\n",
    "# Create CountVectorizer object\n",
    "vectorizer = CountVectorizer()"
   ]
  },
  {
   "cell_type": "code",
   "execution_count": 5,
   "metadata": {},
   "outputs": [],
   "source": [
    "# Generate matrix of word vectors\n",
    "bow_matrix = vectorizer.fit_transform(X_train)"
   ]
  },
  {
   "cell_type": "code",
   "execution_count": 6,
   "metadata": {},
   "outputs": [],
   "source": [
    "#Fill in the code to fit and transform a CountVectorizer (using all defaults) on the text column of X_train and X_test\n",
    "\n",
    "vect =  CountVectorizer()\n",
    "\n",
    "#fit the vectorizer to the \"text\" column of the training data\n",
    "vect.fit(X_train)\n",
    "\n",
    "X_train_vec = vect.transform(X_train)\n",
    "\n",
    "X_test_vec = vect.transform(X_test)"
   ]
  },
  {
   "cell_type": "code",
   "execution_count": 7,
   "metadata": {},
   "outputs": [],
   "source": [
    "from sklearn.naive_bayes import MultinomialNB"
   ]
  },
  {
   "cell_type": "code",
   "execution_count": 8,
   "metadata": {},
   "outputs": [],
   "source": [
    "nb = MultinomialNB().fit(X_train_vec, y_train)\n",
    "\n",
    "y_pred = nb.predict(X_test_vec)"
   ]
  },
  {
   "cell_type": "code",
   "execution_count": 11,
   "metadata": {},
   "outputs": [],
   "source": [
    "cf_matrix = confusion_matrix(y_test, y_pred)"
   ]
  },
  {
   "cell_type": "code",
   "execution_count": 16,
   "metadata": {},
   "outputs": [
    {
     "data": {
      "text/plain": [
       "<Axes: >"
      ]
     },
     "execution_count": 16,
     "metadata": {},
     "output_type": "execute_result"
    },
    {
     "data": {
      "image/png": "[encoded data removed]",
      "text/plain": [
       "<Figure size 640x480 with 2 Axes>"
      ]
     },
     "metadata": {},
     "output_type": "display_data"
    }
   ],
   "source": [
    "import seaborn as sns\n",
    "sns.heatmap(cf_matrix/np.sum(cf_matrix), annot = True, fmt='.2%', cmap='crest')"
   ]
  },
  {
   "cell_type": "code",
   "execution_count": 12,
   "metadata": {},
   "outputs": [
    {
     "name": "stdout",
     "output_type": "stream",
     "text": [
      "              precision    recall  f1-score   support\n",
      "\n",
      "           0       0.68      0.64      0.66     18289\n",
      "           1       0.60      0.85      0.70      5311\n",
      "           2       0.72      0.91      0.80      3087\n",
      "           3       0.92      0.87      0.89     57323\n",
      "           4       0.68      0.97      0.80      4343\n",
      "\n",
      "    accuracy                           0.82     88353\n",
      "   macro avg       0.72      0.85      0.77     88353\n",
      "weighted avg       0.84      0.82      0.83     88353\n",
      "\n"
     ]
    }
   ],
   "source": [
    "print(classification_report(y_test, y_pred))"
   ]
  },
  {
   "cell_type": "code",
   "execution_count": 13,
   "metadata": {},
   "outputs": [
    {
     "data": {
      "text/plain": [
       "0.8242617681346417"
      ]
     },
     "execution_count": 13,
     "metadata": {},
     "output_type": "execute_result"
    }
   ],
   "source": [
    "accuracy_score(y_test, y_pred)"
   ]
  }
 ],
 "metadata": {
  "kernelspec": {
   "display_name": "Python 3",
   "language": "python",
   "name": "python3"
  },
  "language_info": {
   "codemirror_mode": {
    "name": "ipython",
    "version": 3
   },
   "file_extension": ".py",
   "mimetype": "text/x-python",
   "name": "python",
   "nbconvert_exporter": "python",
   "pygments_lexer": "ipython3",
   "version": "3.10.9"
  },
  "orig_nbformat": 4
 },
 "nbformat": 4,
 "nbformat_minor": 2
}
