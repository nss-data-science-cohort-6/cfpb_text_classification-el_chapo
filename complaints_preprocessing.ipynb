{
  "nbformat": 4,
  "nbformat_minor": 0,
  "metadata": {
    "colab": {
      "provenance": [],
      "mount_file_id": "1oZmeR8eHqLrvqywCBs8UPxCzgFH0vtjb",
      "authorship_tag": "ABX9TyOq2/2VzlajiwwE53qO1heP",
      "include_colab_link": true
    },
    "kernelspec": {
      "name": "python3",
      "display_name": "Python 3"
    },
    "language_info": {
      "name": "python"
    }
  },
  "cells": [
    {
      "cell_type": "markdown",
      "metadata": {
        "id": "view-in-github",
        "colab_type": "text"
      },
      "source": [
        "<a href=\"https://colab.research.google.com/github/bvanitsthian/cfpb_text_classification-el_chapo/blob/bua_branch/complaints_preprocessing.ipynb\" target=\"_parent\"><img src=\"https://colab.research.google.com/assets/colab-badge.svg\" alt=\"Open In Colab\"/></a>"
      ]
    },
    {
      "cell_type": "code",
      "execution_count": 24,
      "metadata": {
        "id": "5G1dlvTtE0lh"
      },
      "outputs": [],
      "source": [
        "import pandas as pd\n",
        "import string\n",
        "import nltk\n",
        "from nltk.corpus import stopwords\n",
        "from nltk.probability import FreqDist\n",
        "from nltk.stem import PorterStemmer\n",
        "from nltk.tokenize import word_tokenize\n",
        "from nltk.tokenize import RegexpTokenizer"
      ]
    },
    {
      "cell_type": "code",
      "source": [
        "nltk.download('punkt')"
      ],
      "metadata": {
        "id": "dF-yVR2ZRo8Y"
      },
      "execution_count": null,
      "outputs": []
    },
    {
      "cell_type": "code",
      "source": [
        "nltk.download('stopwords')"
      ],
      "metadata": {
        "id": "wM3wSzyhXLN-"
      },
      "execution_count": null,
      "outputs": []
    },
    {
      "cell_type": "code",
      "source": [
        "from google.colab import drive\n",
        "\n",
        "# Mount Google Drive\n",
        "drive.mount('/content/drive')"
      ],
      "metadata": {
        "colab": {
          "base_uri": "https://localhost:8080/"
        },
        "id": "cY8QagMeFUN0",
        "outputId": "f15a9dcb-03ab-4fa3-e9cc-aedfb67159fb"
      },
      "execution_count": 2,
      "outputs": [
        {
          "output_type": "stream",
          "name": "stdout",
          "text": [
            "Mounted at /content/drive\n"
          ]
        }
      ]
    },
    {
      "cell_type": "code",
      "source": [
        "complaints = pd.read_csv('/content/drive/MyDrive/Classification of Consumer Complaints/complaints.csv', index_col = None)"
      ],
      "metadata": {
        "id": "ba4q0il4FboG"
      },
      "execution_count": 6,
      "outputs": []
    },
    {
      "cell_type": "code",
      "source": [
        "complaints"
      ],
      "metadata": {
        "colab": {
          "base_uri": "https://localhost:8080/",
          "height": 419
        },
        "id": "2tJy4_fdFp1S",
        "outputId": "0a3d7e55-bb80-45c3-d92d-cfb24cb6a20b"
      },
      "execution_count": 9,
      "outputs": [
        {
          "output_type": "execute_result",
          "data": {
            "text/plain": [
              "                             Consumer complaint narrative  \\\n",
              "0       My name is XXXX XXXX this complaint is not mad...   \n",
              "1       I searched on XXXX for XXXXXXXX XXXX  and was ...   \n",
              "2       I have a particular account that is stating th...   \n",
              "3       I have not supplied proof under the doctrine o...   \n",
              "4       Hello i'm writing regarding account on my cred...   \n",
              "...                                                   ...   \n",
              "353427         Collections account I have no knowledge of   \n",
              "353428  Dear CFPB Team, The reason for my complaint is...   \n",
              "353429  FRCA violations : Failing to Follow Debt Dispu...   \n",
              "353430  My Father, a XXXX XXXX  acquired an HECM rever...   \n",
              "353431  I have tried to contact cash app about a fraud...   \n",
              "\n",
              "                                       Issue  \n",
              "0       Incorrect information on your report  \n",
              "1                              Fraud or scam  \n",
              "2       Incorrect information on your report  \n",
              "3          Attempts to collect debt not owed  \n",
              "4       Incorrect information on your report  \n",
              "...                                      ...  \n",
              "353427     Attempts to collect debt not owed  \n",
              "353428     Attempts to collect debt not owed  \n",
              "353429     Attempts to collect debt not owed  \n",
              "353430            Struggling to pay mortgage  \n",
              "353431                         Fraud or scam  \n",
              "\n",
              "[353432 rows x 2 columns]"
            ],
            "text/html": [
              "\n",
              "  <div id=\"df-f0da8298-568d-4666-afbd-2d8f223d21f3\">\n",
              "    <div class=\"colab-df-container\">\n",
              "      <div>\n",
              "<style scoped>\n",
              "    .dataframe tbody tr th:only-of-type {\n",
              "        vertical-align: middle;\n",
              "    }\n",
              "\n",
              "    .dataframe tbody tr th {\n",
              "        vertical-align: top;\n",
              "    }\n",
              "\n",
              "    .dataframe thead th {\n",
              "        text-align: right;\n",
              "    }\n",
              "</style>\n",
              "<table border=\"1\" class=\"dataframe\">\n",
              "  <thead>\n",
              "    <tr style=\"text-align: right;\">\n",
              "      <th></th>\n",
              "      <th>Consumer complaint narrative</th>\n",
              "      <th>Issue</th>\n",
              "    </tr>\n",
              "  </thead>\n",
              "  <tbody>\n",
              "    <tr>\n",
              "      <th>0</th>\n",
              "      <td>My name is XXXX XXXX this complaint is not mad...</td>\n",
              "      <td>Incorrect information on your report</td>\n",
              "    </tr>\n",
              "    <tr>\n",
              "      <th>1</th>\n",
              "      <td>I searched on XXXX for XXXXXXXX XXXX  and was ...</td>\n",
              "      <td>Fraud or scam</td>\n",
              "    </tr>\n",
              "    <tr>\n",
              "      <th>2</th>\n",
              "      <td>I have a particular account that is stating th...</td>\n",
              "      <td>Incorrect information on your report</td>\n",
              "    </tr>\n",
              "    <tr>\n",
              "      <th>3</th>\n",
              "      <td>I have not supplied proof under the doctrine o...</td>\n",
              "      <td>Attempts to collect debt not owed</td>\n",
              "    </tr>\n",
              "    <tr>\n",
              "      <th>4</th>\n",
              "      <td>Hello i'm writing regarding account on my cred...</td>\n",
              "      <td>Incorrect information on your report</td>\n",
              "    </tr>\n",
              "    <tr>\n",
              "      <th>...</th>\n",
              "      <td>...</td>\n",
              "      <td>...</td>\n",
              "    </tr>\n",
              "    <tr>\n",
              "      <th>353427</th>\n",
              "      <td>Collections account I have no knowledge of</td>\n",
              "      <td>Attempts to collect debt not owed</td>\n",
              "    </tr>\n",
              "    <tr>\n",
              "      <th>353428</th>\n",
              "      <td>Dear CFPB Team, The reason for my complaint is...</td>\n",
              "      <td>Attempts to collect debt not owed</td>\n",
              "    </tr>\n",
              "    <tr>\n",
              "      <th>353429</th>\n",
              "      <td>FRCA violations : Failing to Follow Debt Dispu...</td>\n",
              "      <td>Attempts to collect debt not owed</td>\n",
              "    </tr>\n",
              "    <tr>\n",
              "      <th>353430</th>\n",
              "      <td>My Father, a XXXX XXXX  acquired an HECM rever...</td>\n",
              "      <td>Struggling to pay mortgage</td>\n",
              "    </tr>\n",
              "    <tr>\n",
              "      <th>353431</th>\n",
              "      <td>I have tried to contact cash app about a fraud...</td>\n",
              "      <td>Fraud or scam</td>\n",
              "    </tr>\n",
              "  </tbody>\n",
              "</table>\n",
              "<p>353432 rows × 2 columns</p>\n",
              "</div>\n",
              "      <button class=\"colab-df-convert\" onclick=\"convertToInteractive('df-f0da8298-568d-4666-afbd-2d8f223d21f3')\"\n",
              "              title=\"Convert this dataframe to an interactive table.\"\n",
              "              style=\"display:none;\">\n",
              "        \n",
              "  <svg xmlns=\"http://www.w3.org/2000/svg\" height=\"24px\"viewBox=\"0 0 24 24\"\n",
              "       width=\"24px\">\n",
              "    <path d=\"M0 0h24v24H0V0z\" fill=\"none\"/>\n",
              "    <path d=\"M18.56 5.44l.94 2.06.94-2.06 2.06-.94-2.06-.94-.94-2.06-.94 2.06-2.06.94zm-11 1L8.5 8.5l.94-2.06 2.06-.94-2.06-.94L8.5 2.5l-.94 2.06-2.06.94zm10 10l.94 2.06.94-2.06 2.06-.94-2.06-.94-.94-2.06-.94 2.06-2.06.94z\"/><path d=\"M17.41 7.96l-1.37-1.37c-.4-.4-.92-.59-1.43-.59-.52 0-1.04.2-1.43.59L10.3 9.45l-7.72 7.72c-.78.78-.78 2.05 0 2.83L4 21.41c.39.39.9.59 1.41.59.51 0 1.02-.2 1.41-.59l7.78-7.78 2.81-2.81c.8-.78.8-2.07 0-2.86zM5.41 20L4 18.59l7.72-7.72 1.47 1.35L5.41 20z\"/>\n",
              "  </svg>\n",
              "      </button>\n",
              "      \n",
              "  <style>\n",
              "    .colab-df-container {\n",
              "      display:flex;\n",
              "      flex-wrap:wrap;\n",
              "      gap: 12px;\n",
              "    }\n",
              "\n",
              "    .colab-df-convert {\n",
              "      background-color: #E8F0FE;\n",
              "      border: none;\n",
              "      border-radius: 50%;\n",
              "      cursor: pointer;\n",
              "      display: none;\n",
              "      fill: #1967D2;\n",
              "      height: 32px;\n",
              "      padding: 0 0 0 0;\n",
              "      width: 32px;\n",
              "    }\n",
              "\n",
              "    .colab-df-convert:hover {\n",
              "      background-color: #E2EBFA;\n",
              "      box-shadow: 0px 1px 2px rgba(60, 64, 67, 0.3), 0px 1px 3px 1px rgba(60, 64, 67, 0.15);\n",
              "      fill: #174EA6;\n",
              "    }\n",
              "\n",
              "    [theme=dark] .colab-df-convert {\n",
              "      background-color: #3B4455;\n",
              "      fill: #D2E3FC;\n",
              "    }\n",
              "\n",
              "    [theme=dark] .colab-df-convert:hover {\n",
              "      background-color: #434B5C;\n",
              "      box-shadow: 0px 1px 3px 1px rgba(0, 0, 0, 0.15);\n",
              "      filter: drop-shadow(0px 1px 2px rgba(0, 0, 0, 0.3));\n",
              "      fill: #FFFFFF;\n",
              "    }\n",
              "  </style>\n",
              "\n",
              "      <script>\n",
              "        const buttonEl =\n",
              "          document.querySelector('#df-f0da8298-568d-4666-afbd-2d8f223d21f3 button.colab-df-convert');\n",
              "        buttonEl.style.display =\n",
              "          google.colab.kernel.accessAllowed ? 'block' : 'none';\n",
              "\n",
              "        async function convertToInteractive(key) {\n",
              "          const element = document.querySelector('#df-f0da8298-568d-4666-afbd-2d8f223d21f3');\n",
              "          const dataTable =\n",
              "            await google.colab.kernel.invokeFunction('convertToInteractive',\n",
              "                                                     [key], {});\n",
              "          if (!dataTable) return;\n",
              "\n",
              "          const docLinkHtml = 'Like what you see? Visit the ' +\n",
              "            '<a target=\"_blank\" href=https://colab.research.google.com/notebooks/data_table.ipynb>data table notebook</a>'\n",
              "            + ' to learn more about interactive tables.';\n",
              "          element.innerHTML = '';\n",
              "          dataTable['output_type'] = 'display_data';\n",
              "          await google.colab.output.renderOutput(dataTable, element);\n",
              "          const docLink = document.createElement('div');\n",
              "          docLink.innerHTML = docLinkHtml;\n",
              "          element.appendChild(docLink);\n",
              "        }\n",
              "      </script>\n",
              "    </div>\n",
              "  </div>\n",
              "  "
            ]
          },
          "metadata": {},
          "execution_count": 9
        }
      ]
    },
    {
      "cell_type": "markdown",
      "source": [
        "#**Text Preprocessing**"
      ],
      "metadata": {
        "id": "EdkQEFvDSjYv"
      }
    },
    {
      "cell_type": "code",
      "source": [
        "complaints['Consumer complaint narrative'] = complaints['Consumer complaint narrative'].str.lower()"
      ],
      "metadata": {
        "id": "ll5gxrzpHNiG"
      },
      "execution_count": 10,
      "outputs": []
    },
    {
      "cell_type": "code",
      "source": [
        "complaints['Consumer complaint narrative']"
      ],
      "metadata": {
        "colab": {
          "base_uri": "https://localhost:8080/"
        },
        "id": "PCGgwSiJKjHr",
        "outputId": "a2724594-9c29-471e-d998-8d0c78c40390"
      },
      "execution_count": 13,
      "outputs": [
        {
          "output_type": "execute_result",
          "data": {
            "text/plain": [
              "0         my name is xxxx xxxx this complaint is not mad...\n",
              "1         i searched on xxxx for xxxxxxxx xxxx  and was ...\n",
              "2         i have a particular account that is stating th...\n",
              "3         i have not supplied proof under the doctrine o...\n",
              "4         hello i'm writing regarding account on my cred...\n",
              "                                ...                        \n",
              "353427           collections account i have no knowledge of\n",
              "353428    dear cfpb team, the reason for my complaint is...\n",
              "353429    frca violations : failing to follow debt dispu...\n",
              "353430    my father, a xxxx xxxx  acquired an hecm rever...\n",
              "353431    i have tried to contact cash app about a fraud...\n",
              "Name: Consumer complaint narrative, Length: 353432, dtype: object"
            ]
          },
          "metadata": {},
          "execution_count": 13
        }
      ]
    },
    {
      "cell_type": "markdown",
      "source": [
        "###**Text Tokenization [https://towardsdatascience.com/5-simple-ways-to-tokenize-text-in-python-92c6804edfc4#31ad](https://)**"
      ],
      "metadata": {
        "id": "QDXmiG3fQImo"
      }
    },
    {
      "cell_type": "code",
      "source": [
        "# takes too long to run # complaints[\"Consumer complaint narrative\"] = complaints[\"Consumer complaint narrative\"].apply(word_tokenize)"
      ],
      "metadata": {
        "id": "BP4g0jUVRP27"
      },
      "execution_count": null,
      "outputs": []
    },
    {
      "cell_type": "code",
      "source": [
        "tokenizer = RegexpTokenizer(r'\\w+') #\\w+ matches one or more word characters\n",
        "complaints['Consumer complaint narrative'] = complaints['Consumer complaint narrative'].apply(tokenizer.tokenize)"
      ],
      "metadata": {
        "id": "oZq8aj2nKk0W"
      },
      "execution_count": 19,
      "outputs": []
    },
    {
      "cell_type": "code",
      "source": [
        "stop_words = set(stopwords.words('english')) #create english stopwords\n",
        "complaints['Consumer complaint narrative'] = complaints['Consumer complaint narrative'] \\\n",
        "          .apply(lambda text: [word for word in text if word.lower() not in stop_words]) #remove the stop words from each list of tokens in the column"
      ],
      "metadata": {
        "id": "gOWk1OpIPEBQ"
      },
      "execution_count": 22,
      "outputs": []
    },
    {
      "cell_type": "code",
      "source": [
        "stemmer = PorterStemmer() #reduce words to their root \n",
        "complaints['Consumer complaint narrative'] = complaints['Consumer complaint narrative'].apply(lambda text: [stemmer.stem(word) for word in text])"
      ],
      "metadata": {
        "id": "RIkSPF7SPEDb"
      },
      "execution_count": null,
      "outputs": []
    },
    {
      "cell_type": "code",
      "source": [
        "complaints['Consumer complaint narrative'] = complaints['Consumer complaint narrative'].apply(lambda text: ' '.join(text))"
      ],
      "metadata": {
        "id": "-NdVKB_kPEFr"
      },
      "execution_count": null,
      "outputs": []
    },
    {
      "cell_type": "code",
      "source": [],
      "metadata": {
        "id": "EnNXcESxPEHV"
      },
      "execution_count": null,
      "outputs": []
    },
    {
      "cell_type": "code",
      "source": [],
      "metadata": {
        "id": "vm87SFO6PEJD"
      },
      "execution_count": null,
      "outputs": []
    }
  ]
}