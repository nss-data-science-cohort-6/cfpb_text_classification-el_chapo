{
  "cells": [
    {
      "cell_type": "markdown",
      "id": "7b938a2c",
      "metadata": {
        "id": "7b938a2c"
      },
      "source": [
        "Text Classification with Keras"
      ]
    },
    {
      "cell_type": "code",
      "execution_count": 3,
      "id": "7505e774",
      "metadata": {
        "id": "7505e774"
      },
      "outputs": [],
      "source": [
        "import pandas as pd\n",
        "import numpy as np\n",
        "\n",
        "from sklearn.model_selection import train_test_split\n",
        "from sklearn.preprocessing import LabelEncoder\n",
        "from sklearn.feature_extraction.text import TfidfVectorizer\n",
        "\n",
        "from nltk.tokenize import word_tokenize, regexp_tokenize\n",
        "\n",
        "import tensorflow as tf\n",
        "\n",
        "from sklearn.metrics import confusion_matrix, classification_report"
      ]
    },
    {
      "cell_type": "code",
      "execution_count": 6,
      "id": "b3077a32",
      "metadata": {
        "colab": {
          "base_uri": "https://localhost:8080/",
          "height": 206
        },
        "id": "b3077a32",
        "outputId": "6b68c2ac-fdf7-49e2-9889-27152e112c3d"
      },
      "outputs": [
        {
          "output_type": "execute_result",
          "data": {
            "text/plain": [
              "                        Consumer complaint narrative  \\\n",
              "0  name complaint made error neither made third p...   \n",
              "1  search point websit legitim believ websit wher...   \n",
              "2  particular account state owe list credit repor...   \n",
              "3  suppli proof doctrin estoppel silenc engelhard...   \n",
              "4  hello write regard account credit report belon...   \n",
              "\n",
              "                                  Issue  Issue_Code  \n",
              "0  Incorrect information on your report         3.0  \n",
              "1                         Fraud or scam         2.0  \n",
              "2  Incorrect information on your report         3.0  \n",
              "3     Attempts to collect debt not owed         0.0  \n",
              "4  Incorrect information on your report         3.0  "
            ],
            "text/html": [
              "\n",
              "  <div id=\"df-b009f122-bc82-48f5-81d1-0f2f6e735a1f\">\n",
              "    <div class=\"colab-df-container\">\n",
              "      <div>\n",
              "<style scoped>\n",
              "    .dataframe tbody tr th:only-of-type {\n",
              "        vertical-align: middle;\n",
              "    }\n",
              "\n",
              "    .dataframe tbody tr th {\n",
              "        vertical-align: top;\n",
              "    }\n",
              "\n",
              "    .dataframe thead th {\n",
              "        text-align: right;\n",
              "    }\n",
              "</style>\n",
              "<table border=\"1\" class=\"dataframe\">\n",
              "  <thead>\n",
              "    <tr style=\"text-align: right;\">\n",
              "      <th></th>\n",
              "      <th>Consumer complaint narrative</th>\n",
              "      <th>Issue</th>\n",
              "      <th>Issue_Code</th>\n",
              "    </tr>\n",
              "  </thead>\n",
              "  <tbody>\n",
              "    <tr>\n",
              "      <th>0</th>\n",
              "      <td>name complaint made error neither made third p...</td>\n",
              "      <td>Incorrect information on your report</td>\n",
              "      <td>3.0</td>\n",
              "    </tr>\n",
              "    <tr>\n",
              "      <th>1</th>\n",
              "      <td>search point websit legitim believ websit wher...</td>\n",
              "      <td>Fraud or scam</td>\n",
              "      <td>2.0</td>\n",
              "    </tr>\n",
              "    <tr>\n",
              "      <th>2</th>\n",
              "      <td>particular account state owe list credit repor...</td>\n",
              "      <td>Incorrect information on your report</td>\n",
              "      <td>3.0</td>\n",
              "    </tr>\n",
              "    <tr>\n",
              "      <th>3</th>\n",
              "      <td>suppli proof doctrin estoppel silenc engelhard...</td>\n",
              "      <td>Attempts to collect debt not owed</td>\n",
              "      <td>0.0</td>\n",
              "    </tr>\n",
              "    <tr>\n",
              "      <th>4</th>\n",
              "      <td>hello write regard account credit report belon...</td>\n",
              "      <td>Incorrect information on your report</td>\n",
              "      <td>3.0</td>\n",
              "    </tr>\n",
              "  </tbody>\n",
              "</table>\n",
              "</div>\n",
              "      <button class=\"colab-df-convert\" onclick=\"convertToInteractive('df-b009f122-bc82-48f5-81d1-0f2f6e735a1f')\"\n",
              "              title=\"Convert this dataframe to an interactive table.\"\n",
              "              style=\"display:none;\">\n",
              "        \n",
              "  <svg xmlns=\"http://www.w3.org/2000/svg\" height=\"24px\"viewBox=\"0 0 24 24\"\n",
              "       width=\"24px\">\n",
              "    <path d=\"M0 0h24v24H0V0z\" fill=\"none\"/>\n",
              "    <path d=\"M18.56 5.44l.94 2.06.94-2.06 2.06-.94-2.06-.94-.94-2.06-.94 2.06-2.06.94zm-11 1L8.5 8.5l.94-2.06 2.06-.94-2.06-.94L8.5 2.5l-.94 2.06-2.06.94zm10 10l.94 2.06.94-2.06 2.06-.94-2.06-.94-.94-2.06-.94 2.06-2.06.94z\"/><path d=\"M17.41 7.96l-1.37-1.37c-.4-.4-.92-.59-1.43-.59-.52 0-1.04.2-1.43.59L10.3 9.45l-7.72 7.72c-.78.78-.78 2.05 0 2.83L4 21.41c.39.39.9.59 1.41.59.51 0 1.02-.2 1.41-.59l7.78-7.78 2.81-2.81c.8-.78.8-2.07 0-2.86zM5.41 20L4 18.59l7.72-7.72 1.47 1.35L5.41 20z\"/>\n",
              "  </svg>\n",
              "      </button>\n",
              "      \n",
              "  <style>\n",
              "    .colab-df-container {\n",
              "      display:flex;\n",
              "      flex-wrap:wrap;\n",
              "      gap: 12px;\n",
              "    }\n",
              "\n",
              "    .colab-df-convert {\n",
              "      background-color: #E8F0FE;\n",
              "      border: none;\n",
              "      border-radius: 50%;\n",
              "      cursor: pointer;\n",
              "      display: none;\n",
              "      fill: #1967D2;\n",
              "      height: 32px;\n",
              "      padding: 0 0 0 0;\n",
              "      width: 32px;\n",
              "    }\n",
              "\n",
              "    .colab-df-convert:hover {\n",
              "      background-color: #E2EBFA;\n",
              "      box-shadow: 0px 1px 2px rgba(60, 64, 67, 0.3), 0px 1px 3px 1px rgba(60, 64, 67, 0.15);\n",
              "      fill: #174EA6;\n",
              "    }\n",
              "\n",
              "    [theme=dark] .colab-df-convert {\n",
              "      background-color: #3B4455;\n",
              "      fill: #D2E3FC;\n",
              "    }\n",
              "\n",
              "    [theme=dark] .colab-df-convert:hover {\n",
              "      background-color: #434B5C;\n",
              "      box-shadow: 0px 1px 3px 1px rgba(0, 0, 0, 0.15);\n",
              "      filter: drop-shadow(0px 1px 2px rgba(0, 0, 0, 0.3));\n",
              "      fill: #FFFFFF;\n",
              "    }\n",
              "  </style>\n",
              "\n",
              "      <script>\n",
              "        const buttonEl =\n",
              "          document.querySelector('#df-b009f122-bc82-48f5-81d1-0f2f6e735a1f button.colab-df-convert');\n",
              "        buttonEl.style.display =\n",
              "          google.colab.kernel.accessAllowed ? 'block' : 'none';\n",
              "\n",
              "        async function convertToInteractive(key) {\n",
              "          const element = document.querySelector('#df-b009f122-bc82-48f5-81d1-0f2f6e735a1f');\n",
              "          const dataTable =\n",
              "            await google.colab.kernel.invokeFunction('convertToInteractive',\n",
              "                                                     [key], {});\n",
              "          if (!dataTable) return;\n",
              "\n",
              "          const docLinkHtml = 'Like what you see? Visit the ' +\n",
              "            '<a target=\"_blank\" href=https://colab.research.google.com/notebooks/data_table.ipynb>data table notebook</a>'\n",
              "            + ' to learn more about interactive tables.';\n",
              "          element.innerHTML = '';\n",
              "          dataTable['output_type'] = 'display_data';\n",
              "          await google.colab.output.renderOutput(dataTable, element);\n",
              "          const docLink = document.createElement('div');\n",
              "          docLink.innerHTML = docLinkHtml;\n",
              "          element.appendChild(docLink);\n",
              "        }\n",
              "      </script>\n",
              "    </div>\n",
              "  </div>\n",
              "  "
            ]
          },
          "metadata": {},
          "execution_count": 6
        }
      ],
      "source": [
        "reviews = pd.read_csv('complaints_preprocessed.csv').dropna()\n",
        "\n",
        "reviews.head() "
      ]
    },
    {
      "cell_type": "code",
      "source": [
        "reviews['Issue'].value_counts(dropna=False) "
      ],
      "metadata": {
        "colab": {
          "base_uri": "https://localhost:8080/"
        },
        "id": "geC5_2wMWEx6",
        "outputId": "8a5d4a4f-0047-4287-b517-cc30c3b96ce3"
      },
      "id": "geC5_2wMWEx6",
      "execution_count": 7,
      "outputs": [
        {
          "output_type": "execute_result",
          "data": {
            "text/plain": [
              "Incorrect information on your report    5384\n",
              "Attempts to collect debt not owed       1584\n",
              "Struggling to pay mortgage               334\n",
              "Communication tactics                    300\n",
              "Fraud or scam                            227\n",
              "Name: Issue, dtype: int64"
            ]
          },
          "metadata": {},
          "execution_count": 7
        }
      ]
    },
    {
      "cell_type": "code",
      "execution_count": 8,
      "id": "a2ffb2ce",
      "metadata": {
        "id": "a2ffb2ce"
      },
      "outputs": [],
      "source": [
        "X = reviews[['Consumer complaint narrative']]\n",
        "y = reviews['Issue']\n",
        "\n",
        "le = LabelEncoder().fit(y)\n",
        "y = le.transform(y)\n",
        "\n",
        "X_train_val, X_test, y_train_val, y_test = train_test_split(X, y, random_state = 321, stratify = y)\n",
        "X_train, X_val, y_train, y_val = train_test_split(X_train_val, y_train_val, random_state = 321, stratify = y_train_val)"
      ]
    },
    {
      "cell_type": "code",
      "execution_count": 9,
      "id": "ed22cc9a",
      "metadata": {
        "id": "ed22cc9a"
      },
      "outputs": [],
      "source": [
        "vect = TfidfVectorizer()\n",
        "\n",
        "X_train_vec = vect.fit_transform(X_train['Consumer complaint narrative']).toarray()\n",
        "X_val_vec = vect.transform(X_val['Consumer complaint narrative']).toarray()\n",
        "X_test_vec = vect.transform(X_test['Consumer complaint narrative']).toarray() "
      ]
    },
    {
      "cell_type": "code",
      "execution_count": 10,
      "id": "8f916478",
      "metadata": {
        "id": "8f916478"
      },
      "outputs": [],
      "source": [
        "#Start with a sequential model\n",
        "model = tf.keras.Sequential()\n",
        "\n",
        "# Then add dense layer with relu activation\n",
        "model.add(tf.keras.layers.Dense(units = 256,\n",
        "                                input_shape = (vect.get_feature_names_out().shape[0],),\n",
        "                                activation = 'relu'))\n",
        "# And end with an output layer with sigmoid activation \n",
        "model.add(tf.keras.layers.Dense(5, activation = 'softmax'))\n",
        "\n",
        "# Finally, compile the model\n",
        "model.compile('adam', 'sparse_categorical_crossentropy', metrics=['accuracy'])\n",
        "\n",
        "callback = tf.keras.callbacks.EarlyStopping(monitor='val_loss', patience=3) "
      ]
    },
    {
      "cell_type": "code",
      "execution_count": 11,
      "id": "8ef0ae11",
      "metadata": {
        "colab": {
          "base_uri": "https://localhost:8080/"
        },
        "id": "8ef0ae11",
        "outputId": "e92b5c29-c133-45d0-82c9-34a783037cc8"
      },
      "outputs": [
        {
          "output_type": "stream",
          "name": "stdout",
          "text": [
            "Epoch 1/100\n",
            "138/138 [==============================] - 7s 7ms/step - loss: 0.7990 - accuracy: 0.7266 - val_loss: 0.4956 - val_accuracy: 0.8188\n",
            "Epoch 2/100\n",
            "138/138 [==============================] - 1s 5ms/step - loss: 0.3503 - accuracy: 0.8837 - val_loss: 0.3851 - val_accuracy: 0.8549\n",
            "Epoch 3/100\n",
            "138/138 [==============================] - 1s 5ms/step - loss: 0.2060 - accuracy: 0.9355 - val_loss: 0.3845 - val_accuracy: 0.8576\n",
            "Epoch 4/100\n",
            "138/138 [==============================] - 1s 5ms/step - loss: 0.1386 - accuracy: 0.9593 - val_loss: 0.4125 - val_accuracy: 0.8460\n",
            "Epoch 5/100\n",
            "138/138 [==============================] - 1s 4ms/step - loss: 0.0977 - accuracy: 0.9734 - val_loss: 0.4391 - val_accuracy: 0.8433\n",
            "Epoch 6/100\n",
            "138/138 [==============================] - 1s 4ms/step - loss: 0.0705 - accuracy: 0.9816 - val_loss: 0.4852 - val_accuracy: 0.8365\n"
          ]
        }
      ],
      "source": [
        "history = model.fit(X_train_vec, y_train,\n",
        "                    validation_data = (X_val_vec, y_val),\n",
        "                    epochs=100, callbacks=[callback])"
      ]
    },
    {
      "cell_type": "code",
      "execution_count": 12,
      "id": "7e855cae",
      "metadata": {
        "colab": {
          "base_uri": "https://localhost:8080/"
        },
        "id": "7e855cae",
        "outputId": "dca38266-959d-4c1c-d037-83a190e1598e"
      },
      "outputs": [
        {
          "output_type": "stream",
          "name": "stdout",
          "text": [
            "62/62 [==============================] - 1s 4ms/step\n"
          ]
        },
        {
          "output_type": "execute_result",
          "data": {
            "text/plain": [
              "array([[ 219,    9,    2,  163,    3],\n",
              "       [  26,   38,    1,   10,    0],\n",
              "       [   5,    0,   44,    8,    0],\n",
              "       [  80,    1,    0, 1258,    7],\n",
              "       [   2,    0,    0,   14,   68]])"
            ]
          },
          "metadata": {},
          "execution_count": 12
        }
      ],
      "source": [
        "# n.argmax axis = 1\n",
        "y_pred = np.argmax(model.predict(X_test_vec), axis = 1)\n",
        "\n",
        "confusion_matrix(y_test, y_pred) "
      ]
    },
    {
      "cell_type": "code",
      "execution_count": 13,
      "id": "ee1e59cf",
      "metadata": {
        "id": "ee1e59cf",
        "colab": {
          "base_uri": "https://localhost:8080/"
        },
        "outputId": "d2e26e11-9e2a-4925-eeba-50179817f0f2"
      },
      "outputs": [
        {
          "output_type": "stream",
          "name": "stdout",
          "text": [
            "              precision    recall  f1-score   support\n",
            "\n",
            "           0       0.66      0.55      0.60       396\n",
            "           1       0.79      0.51      0.62        75\n",
            "           2       0.94      0.77      0.85        57\n",
            "           3       0.87      0.93      0.90      1346\n",
            "           4       0.87      0.81      0.84        84\n",
            "\n",
            "    accuracy                           0.83      1958\n",
            "   macro avg       0.83      0.72      0.76      1958\n",
            "weighted avg       0.82      0.83      0.82      1958\n",
            "\n"
          ]
        }
      ],
      "source": [
        "print(classification_report(y_test, y_pred))"
      ]
    },
    {
      "cell_type": "code",
      "source": [
        "le.inverse_transform([0]) "
      ],
      "metadata": {
        "colab": {
          "base_uri": "https://localhost:8080/"
        },
        "id": "pD6SdxplYsa6",
        "outputId": "5aa56776-18b1-4c30-9022-408723093798"
      },
      "id": "pD6SdxplYsa6",
      "execution_count": 14,
      "outputs": [
        {
          "output_type": "execute_result",
          "data": {
            "text/plain": [
              "array(['Attempts to collect debt not owed'], dtype=object)"
            ]
          },
          "metadata": {},
          "execution_count": 14
        }
      ]
    },
    {
      "cell_type": "code",
      "source": [
        "le.inverse_transform([3]) "
      ],
      "metadata": {
        "colab": {
          "base_uri": "https://localhost:8080/"
        },
        "id": "Q4GRRIE5YXfK",
        "outputId": "cad2d5d9-6621-4c9a-dc48-62b182672a1b"
      },
      "id": "Q4GRRIE5YXfK",
      "execution_count": 15,
      "outputs": [
        {
          "output_type": "execute_result",
          "data": {
            "text/plain": [
              "array(['Incorrect information on your report'], dtype=object)"
            ]
          },
          "metadata": {},
          "execution_count": 15
        }
      ]
    },
    {
      "cell_type": "markdown",
      "id": "89498a10",
      "metadata": {
        "id": "89498a10"
      },
      "source": [
        "Text Classification Using an LSTM"
      ]
    },
    {
      "cell_type": "code",
      "execution_count": 16,
      "id": "5d9c9abc",
      "metadata": {
        "id": "5d9c9abc"
      },
      "outputs": [],
      "source": [
        "X = [[x for x in regexp_tokenize(sentence.lower(), pattern = r\"[a-z]+\")] for sentence in reviews['Consumer complaint narrative'].tolist()] "
      ]
    },
    {
      "cell_type": "code",
      "execution_count": 17,
      "id": "8080d01f",
      "metadata": {
        "id": "8080d01f"
      },
      "outputs": [],
      "source": [
        "tokens = sorted(set([x for sentence in X for x in sentence]))\n",
        "\n",
        "token_index = {word:i + 1 for i, word in enumerate(tokens)}\n",
        "index_token = {i + 1:word for i, word in enumerate(tokens)}\n",
        "\n",
        "# We need to reserve the zero token for when we pad our sequences.\n",
        "vocab_size = len(token_index) + 1"
      ]
    },
    {
      "cell_type": "code",
      "execution_count": 18,
      "id": "e78adc9a",
      "metadata": {
        "id": "e78adc9a"
      },
      "outputs": [],
      "source": [
        "X = [[token_index[word] for word in sentence] for sentence in X]"
      ]
    },
    {
      "cell_type": "code",
      "execution_count": 19,
      "id": "ff30b06e",
      "metadata": {
        "id": "ff30b06e",
        "colab": {
          "base_uri": "https://localhost:8080/"
        },
        "outputId": "31e895a0-b520-43a0-a022-f758f486b8eb"
      },
      "outputs": [
        {
          "output_type": "execute_result",
          "data": {
            "text/plain": [
              "count    7829.000000\n",
              "mean       77.850556\n",
              "std       103.816742\n",
              "min         1.000000\n",
              "25%        25.000000\n",
              "50%        45.000000\n",
              "75%        88.000000\n",
              "max      1671.000000\n",
              "dtype: float64"
            ]
          },
          "metadata": {},
          "execution_count": 19
        }
      ],
      "source": [
        "pd.Series([len(sentence) for sentence in X]).describe()"
      ]
    },
    {
      "cell_type": "code",
      "execution_count": 20,
      "id": "c67ff388",
      "metadata": {
        "id": "c67ff388"
      },
      "outputs": [],
      "source": [
        "X = tf.keras.preprocessing.sequence.pad_sequences(X, maxlen = 100)"
      ]
    },
    {
      "cell_type": "code",
      "execution_count": 21,
      "id": "cd82c3a1",
      "metadata": {
        "id": "cd82c3a1",
        "colab": {
          "base_uri": "https://localhost:8080/"
        },
        "outputId": "6b9e52e4-ed0a-4936-a097-8d522849a9bc"
      },
      "outputs": [
        {
          "output_type": "execute_result",
          "data": {
            "text/plain": [
              "array([   0,    0,    0,    0,    0,    0,    0,    0,    0,    0,    0,\n",
              "          0,    0,    0,    0,    0,    0,    0,    0,    0,    0,    0,\n",
              "          0,    0,    0,    0,    0,    0,    0,    0,    0,    0,    0,\n",
              "          0,    0,    0,    0,    0,    0,    0,    0,    0,    0, 4854,\n",
              "       1491, 4442, 2578, 4901, 4442, 7370, 5308, 1906, 5379, 5405,  271,\n",
              "       5424, 1473, 8232,  592, 7647, 7897, 6754, 6495, 5022, 1111, 7897,\n",
              "       5424, 3655, 3834,  412, 3258, 6562, 4734, 7054, 1744,   81, 4167,\n",
              "       3992, 3117, 7616, 1390, 5410, 5800, 1597, 6137, 4916, 3185, 8300,\n",
              "       1576, 6137,  391, 1597, 6137, 1856, 5151,  670, 5512, 1958,   81,\n",
              "        487], dtype=int32)"
            ]
          },
          "metadata": {},
          "execution_count": 21
        }
      ],
      "source": [
        "X[0]"
      ]
    },
    {
      "cell_type": "code",
      "execution_count": 22,
      "id": "7c9f44e3",
      "metadata": {
        "id": "7c9f44e3"
      },
      "outputs": [],
      "source": [
        "y = reviews['Issue']\n",
        "\n",
        "le = LabelEncoder().fit(y)\n",
        "y = le.transform(y)\n",
        "\n",
        "X_train_val, X_test, y_train_val, y_test = train_test_split(X, y, random_state = 321, stratify = y)\n",
        "X_train, X_val, y_train, y_val = train_test_split(X_train_val, y_train_val, random_state = 321, stratify = y_train_val)"
      ]
    },
    {
      "cell_type": "code",
      "execution_count": 23,
      "id": "5ccae3dd",
      "metadata": {
        "id": "5ccae3dd"
      },
      "outputs": [],
      "source": [
        "lstm_model = tf.keras.models.Sequential()\n",
        "\n",
        "lstm_model.add(tf.keras.layers.Embedding(input_dim = vocab_size, output_dim = 128, mask_zero = True))\n",
        "lstm_model.add(tf.keras.layers.LSTM(32))\n",
        "lstm_model.add(tf.keras.layers.Dense(32))\n",
        "lstm_model.add(tf.keras.layers.Dense(5, activation = 'softmax'))\n",
        "\n",
        "lstm_model.compile(optimizer = 'rmsprop', loss = 'sparse_categorical_crossentropy', metrics=['accuracy'])\n",
        "\n",
        "callback = tf.keras.callbacks.EarlyStopping(monitor='val_loss', patience=3)"
      ]
    },
    {
      "cell_type": "code",
      "execution_count": 24,
      "id": "87f84248",
      "metadata": {
        "id": "87f84248",
        "colab": {
          "base_uri": "https://localhost:8080/"
        },
        "outputId": "0217def6-04f2-475c-b4ca-8e1136ca6688"
      },
      "outputs": [
        {
          "output_type": "stream",
          "name": "stdout",
          "text": [
            "Epoch 1/100\n",
            "138/138 [==============================] - 62s 411ms/step - loss: 0.7795 - accuracy: 0.7079 - val_loss: 0.6305 - val_accuracy: 0.7486\n",
            "Epoch 2/100\n",
            "138/138 [==============================] - 49s 350ms/step - loss: 0.5254 - accuracy: 0.7920 - val_loss: 0.5357 - val_accuracy: 0.7977\n",
            "Epoch 3/100\n",
            "138/138 [==============================] - 46s 337ms/step - loss: 0.4171 - accuracy: 0.8376 - val_loss: 0.5197 - val_accuracy: 0.7990\n",
            "Epoch 4/100\n",
            "138/138 [==============================] - 45s 323ms/step - loss: 0.3493 - accuracy: 0.8696 - val_loss: 0.5102 - val_accuracy: 0.8202\n",
            "Epoch 5/100\n",
            "138/138 [==============================] - 41s 295ms/step - loss: 0.2961 - accuracy: 0.8955 - val_loss: 0.5632 - val_accuracy: 0.8120\n",
            "Epoch 6/100\n",
            "138/138 [==============================] - 41s 297ms/step - loss: 0.2579 - accuracy: 0.9107 - val_loss: 0.5470 - val_accuracy: 0.8079\n",
            "Epoch 7/100\n",
            "138/138 [==============================] - 40s 288ms/step - loss: 0.2232 - accuracy: 0.9248 - val_loss: 0.6020 - val_accuracy: 0.8263\n"
          ]
        }
      ],
      "source": [
        "history = lstm_model.fit(X_train, y_train,\n",
        "                    validation_data = (X_val, y_val),\n",
        "                    epochs=100, callbacks=[callback])"
      ]
    },
    {
      "cell_type": "code",
      "execution_count": 25,
      "id": "0ca0268c",
      "metadata": {
        "id": "0ca0268c",
        "colab": {
          "base_uri": "https://localhost:8080/"
        },
        "outputId": "a793b7d3-622b-459b-a9bf-50ff70893b77"
      },
      "outputs": [
        {
          "output_type": "stream",
          "name": "stdout",
          "text": [
            "62/62 [==============================] - 2s 20ms/step\n"
          ]
        },
        {
          "output_type": "execute_result",
          "data": {
            "text/plain": [
              "array([[ 186,   39,    2,  166,    3],\n",
              "       [  20,   43,    6,    5,    1],\n",
              "       [   2,    4,   41,    3,    7],\n",
              "       [  83,    5,    5, 1246,    7],\n",
              "       [   3,    1,    3,   18,   59]])"
            ]
          },
          "metadata": {},
          "execution_count": 25
        }
      ],
      "source": [
        "y_pred = np.argmax(lstm_model.predict(X_test), axis = 1)\n",
        "\n",
        "confusion_matrix(y_test, y_pred) "
      ]
    },
    {
      "cell_type": "code",
      "source": [
        "print(classification_report(y_test, y_pred))"
      ],
      "metadata": {
        "colab": {
          "base_uri": "https://localhost:8080/"
        },
        "id": "tcn2qbbhJ3u8",
        "outputId": "c9e3635c-50a5-4298-84a3-75e0587a9ec8"
      },
      "id": "tcn2qbbhJ3u8",
      "execution_count": 26,
      "outputs": [
        {
          "output_type": "stream",
          "name": "stdout",
          "text": [
            "              precision    recall  f1-score   support\n",
            "\n",
            "           0       0.63      0.47      0.54       396\n",
            "           1       0.47      0.57      0.51        75\n",
            "           2       0.72      0.72      0.72        57\n",
            "           3       0.87      0.93      0.90      1346\n",
            "           4       0.77      0.70      0.73        84\n",
            "\n",
            "    accuracy                           0.80      1958\n",
            "   macro avg       0.69      0.68      0.68      1958\n",
            "weighted avg       0.80      0.80      0.80      1958\n",
            "\n"
          ]
        }
      ]
    },
    {
      "cell_type": "markdown",
      "id": "fc9494aa",
      "metadata": {
        "id": "fc9494aa"
      },
      "source": [
        "LSTM layer Bidirectional"
      ]
    },
    {
      "cell_type": "code",
      "execution_count": 27,
      "id": "852bd5e8",
      "metadata": {
        "id": "852bd5e8"
      },
      "outputs": [],
      "source": [
        "lstm_model = tf.keras.models.Sequential()\n",
        "\n",
        "lstm_model.add(tf.keras.layers.Embedding(input_dim = vocab_size, output_dim = 128, mask_zero = True))\n",
        "lstm_model.add(tf.keras.layers.Bidirectional(tf.keras.layers.LSTM(32)))\n",
        "lstm_model.add(tf.keras.layers.Dense(32))\n",
        "lstm_model.add(tf.keras.layers.Dense(5, activation = 'softmax'))\n",
        "\n",
        "lstm_model.compile(optimizer = 'rmsprop', loss = 'sparse_categorical_crossentropy', metrics=['accuracy'])\n",
        "\n",
        "callback = tf.keras.callbacks.EarlyStopping(monitor='val_loss', patience=3)"
      ]
    },
    {
      "cell_type": "code",
      "execution_count": 28,
      "id": "c2dbbc65",
      "metadata": {
        "id": "c2dbbc65",
        "colab": {
          "base_uri": "https://localhost:8080/"
        },
        "outputId": "91a59fda-a4d7-4edd-a674-9e66075aa8d4"
      },
      "outputs": [
        {
          "output_type": "stream",
          "name": "stdout",
          "text": [
            "Epoch 1/100\n",
            "138/138 [==============================] - 92s 602ms/step - loss: 0.7204 - accuracy: 0.7340 - val_loss: 0.5917 - val_accuracy: 0.7636\n",
            "Epoch 2/100\n",
            "138/138 [==============================] - 78s 564ms/step - loss: 0.4458 - accuracy: 0.8269 - val_loss: 0.5102 - val_accuracy: 0.8120\n",
            "Epoch 3/100\n",
            "138/138 [==============================] - 78s 565ms/step - loss: 0.3306 - accuracy: 0.8851 - val_loss: 0.4516 - val_accuracy: 0.8379\n",
            "Epoch 4/100\n",
            "138/138 [==============================] - 75s 543ms/step - loss: 0.2424 - accuracy: 0.9157 - val_loss: 0.4915 - val_accuracy: 0.8297\n",
            "Epoch 5/100\n",
            "138/138 [==============================] - 73s 531ms/step - loss: 0.1954 - accuracy: 0.9341 - val_loss: 0.5162 - val_accuracy: 0.8243\n",
            "Epoch 6/100\n",
            "138/138 [==============================] - 73s 530ms/step - loss: 0.1526 - accuracy: 0.9494 - val_loss: 0.5927 - val_accuracy: 0.8324\n"
          ]
        }
      ],
      "source": [
        "history = lstm_model.fit(X_train, y_train,\n",
        "                    validation_data = (X_val, y_val),\n",
        "                    epochs=100, callbacks=[callback])"
      ]
    },
    {
      "cell_type": "code",
      "execution_count": 29,
      "id": "e984202d",
      "metadata": {
        "id": "e984202d",
        "colab": {
          "base_uri": "https://localhost:8080/"
        },
        "outputId": "c7f1faea-3474-43e5-c37e-9bf5728beb76"
      },
      "outputs": [
        {
          "output_type": "stream",
          "name": "stdout",
          "text": [
            "62/62 [==============================] - 6s 56ms/step\n"
          ]
        },
        {
          "output_type": "execute_result",
          "data": {
            "text/plain": [
              "array([[ 215,   24,    4,  152,    1],\n",
              "       [  24,   45,    1,    5,    0],\n",
              "       [   1,    5,   40,    9,    2],\n",
              "       [  87,    4,    2, 1247,    6],\n",
              "       [   0,    4,    2,   19,   59]])"
            ]
          },
          "metadata": {},
          "execution_count": 29
        }
      ],
      "source": [
        "y_pred = np.argmax(lstm_model.predict(X_test), axis = 1)\n",
        "\n",
        "confusion_matrix(y_test, y_pred) "
      ]
    },
    {
      "cell_type": "code",
      "execution_count": 30,
      "id": "09cd9580",
      "metadata": {
        "id": "09cd9580",
        "colab": {
          "base_uri": "https://localhost:8080/"
        },
        "outputId": "f45ab781-b986-4ab1-f603-34f7ca5979bc"
      },
      "outputs": [
        {
          "output_type": "stream",
          "name": "stdout",
          "text": [
            "              precision    recall  f1-score   support\n",
            "\n",
            "           0       0.66      0.54      0.59       396\n",
            "           1       0.55      0.60      0.57        75\n",
            "           2       0.82      0.70      0.75        57\n",
            "           3       0.87      0.93      0.90      1346\n",
            "           4       0.87      0.70      0.78        84\n",
            "\n",
            "    accuracy                           0.82      1958\n",
            "   macro avg       0.75      0.69      0.72      1958\n",
            "weighted avg       0.81      0.82      0.81      1958\n",
            "\n"
          ]
        }
      ],
      "source": [
        "print(classification_report(y_test, y_pred))"
      ]
    }
  ],
  "metadata": {
    "kernelspec": {
      "display_name": "Python 3 (ipykernel)",
      "language": "python",
      "name": "python3"
    },
    "language_info": {
      "codemirror_mode": {
        "name": "ipython",
        "version": 3
      },
      "file_extension": ".py",
      "mimetype": "text/x-python",
      "name": "python",
      "nbconvert_exporter": "python",
      "pygments_lexer": "ipython3",
      "version": "3.8.5"
    },
    "colab": {
      "provenance": [],
      "gpuType": "T4"
    },
    "accelerator": "GPU",
    "gpuClass": "standard"
  },
  "nbformat": 4,
  "nbformat_minor": 5
}