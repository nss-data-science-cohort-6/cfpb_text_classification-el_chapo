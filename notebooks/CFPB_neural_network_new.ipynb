{
  "cells": [
    {
      "cell_type": "markdown",
      "id": "7b938a2c",
      "metadata": {
        "id": "7b938a2c"
      },
      "source": [
        "Text Classification with Keras"
      ]
    },
    {
      "cell_type": "code",
      "execution_count": 1,
      "id": "7505e774",
      "metadata": {
        "id": "7505e774"
      },
      "outputs": [],
      "source": [
        "import pandas as pd\n",
        "import numpy as np\n",
        "\n",
        "from sklearn.model_selection import train_test_split\n",
        "from sklearn.preprocessing import LabelEncoder\n",
        "from sklearn.feature_extraction.text import TfidfVectorizer\n",
        "\n",
        "from nltk.tokenize import word_tokenize, regexp_tokenize\n",
        "\n",
        "import tensorflow as tf\n",
        "\n",
        "from sklearn.metrics import confusion_matrix, classification_report"
      ]
    },
    {
      "cell_type": "code",
      "execution_count": 30,
      "id": "b3077a32",
      "metadata": {
        "colab": {
          "base_uri": "https://localhost:8080/",
          "height": 206
        },
        "id": "b3077a32",
        "outputId": "28f17050-b254-468a-dcff-aa6d18f50cdf"
      },
      "outputs": [
        {
          "output_type": "execute_result",
          "data": {
            "text/plain": [
              "                        Consumer complaint narrative  \\\n",
              "0  name complaint made error neither made third p...   \n",
              "1  search point websit legitim believ websit wher...   \n",
              "2  particular account state owe list credit repor...   \n",
              "3  suppli proof doctrin estoppel silenc engelhard...   \n",
              "4  hello write regard account credit report belon...   \n",
              "\n",
              "                                  Issue  Issue_Code  \n",
              "0  Incorrect information on your report         3.0  \n",
              "1                         Fraud or scam         2.0  \n",
              "2  Incorrect information on your report         3.0  \n",
              "3     Attempts to collect debt not owed         0.0  \n",
              "4  Incorrect information on your report         3.0  "
            ],
            "text/html": [
              "\n",
              "  <div id=\"df-fc839ef3-bf6c-4aa7-980e-172182ebb296\">\n",
              "    <div class=\"colab-df-container\">\n",
              "      <div>\n",
              "<style scoped>\n",
              "    .dataframe tbody tr th:only-of-type {\n",
              "        vertical-align: middle;\n",
              "    }\n",
              "\n",
              "    .dataframe tbody tr th {\n",
              "        vertical-align: top;\n",
              "    }\n",
              "\n",
              "    .dataframe thead th {\n",
              "        text-align: right;\n",
              "    }\n",
              "</style>\n",
              "<table border=\"1\" class=\"dataframe\">\n",
              "  <thead>\n",
              "    <tr style=\"text-align: right;\">\n",
              "      <th></th>\n",
              "      <th>Consumer complaint narrative</th>\n",
              "      <th>Issue</th>\n",
              "      <th>Issue_Code</th>\n",
              "    </tr>\n",
              "  </thead>\n",
              "  <tbody>\n",
              "    <tr>\n",
              "      <th>0</th>\n",
              "      <td>name complaint made error neither made third p...</td>\n",
              "      <td>Incorrect information on your report</td>\n",
              "      <td>3.0</td>\n",
              "    </tr>\n",
              "    <tr>\n",
              "      <th>1</th>\n",
              "      <td>search point websit legitim believ websit wher...</td>\n",
              "      <td>Fraud or scam</td>\n",
              "      <td>2.0</td>\n",
              "    </tr>\n",
              "    <tr>\n",
              "      <th>2</th>\n",
              "      <td>particular account state owe list credit repor...</td>\n",
              "      <td>Incorrect information on your report</td>\n",
              "      <td>3.0</td>\n",
              "    </tr>\n",
              "    <tr>\n",
              "      <th>3</th>\n",
              "      <td>suppli proof doctrin estoppel silenc engelhard...</td>\n",
              "      <td>Attempts to collect debt not owed</td>\n",
              "      <td>0.0</td>\n",
              "    </tr>\n",
              "    <tr>\n",
              "      <th>4</th>\n",
              "      <td>hello write regard account credit report belon...</td>\n",
              "      <td>Incorrect information on your report</td>\n",
              "      <td>3.0</td>\n",
              "    </tr>\n",
              "  </tbody>\n",
              "</table>\n",
              "</div>\n",
              "      <button class=\"colab-df-convert\" onclick=\"convertToInteractive('df-fc839ef3-bf6c-4aa7-980e-172182ebb296')\"\n",
              "              title=\"Convert this dataframe to an interactive table.\"\n",
              "              style=\"display:none;\">\n",
              "        \n",
              "  <svg xmlns=\"http://www.w3.org/2000/svg\" height=\"24px\"viewBox=\"0 0 24 24\"\n",
              "       width=\"24px\">\n",
              "    <path d=\"M0 0h24v24H0V0z\" fill=\"none\"/>\n",
              "    <path d=\"M18.56 5.44l.94 2.06.94-2.06 2.06-.94-2.06-.94-.94-2.06-.94 2.06-2.06.94zm-11 1L8.5 8.5l.94-2.06 2.06-.94-2.06-.94L8.5 2.5l-.94 2.06-2.06.94zm10 10l.94 2.06.94-2.06 2.06-.94-2.06-.94-.94-2.06-.94 2.06-2.06.94z\"/><path d=\"M17.41 7.96l-1.37-1.37c-.4-.4-.92-.59-1.43-.59-.52 0-1.04.2-1.43.59L10.3 9.45l-7.72 7.72c-.78.78-.78 2.05 0 2.83L4 21.41c.39.39.9.59 1.41.59.51 0 1.02-.2 1.41-.59l7.78-7.78 2.81-2.81c.8-.78.8-2.07 0-2.86zM5.41 20L4 18.59l7.72-7.72 1.47 1.35L5.41 20z\"/>\n",
              "  </svg>\n",
              "      </button>\n",
              "      \n",
              "  <style>\n",
              "    .colab-df-container {\n",
              "      display:flex;\n",
              "      flex-wrap:wrap;\n",
              "      gap: 12px;\n",
              "    }\n",
              "\n",
              "    .colab-df-convert {\n",
              "      background-color: #E8F0FE;\n",
              "      border: none;\n",
              "      border-radius: 50%;\n",
              "      cursor: pointer;\n",
              "      display: none;\n",
              "      fill: #1967D2;\n",
              "      height: 32px;\n",
              "      padding: 0 0 0 0;\n",
              "      width: 32px;\n",
              "    }\n",
              "\n",
              "    .colab-df-convert:hover {\n",
              "      background-color: #E2EBFA;\n",
              "      box-shadow: 0px 1px 2px rgba(60, 64, 67, 0.3), 0px 1px 3px 1px rgba(60, 64, 67, 0.15);\n",
              "      fill: #174EA6;\n",
              "    }\n",
              "\n",
              "    [theme=dark] .colab-df-convert {\n",
              "      background-color: #3B4455;\n",
              "      fill: #D2E3FC;\n",
              "    }\n",
              "\n",
              "    [theme=dark] .colab-df-convert:hover {\n",
              "      background-color: #434B5C;\n",
              "      box-shadow: 0px 1px 3px 1px rgba(0, 0, 0, 0.15);\n",
              "      filter: drop-shadow(0px 1px 2px rgba(0, 0, 0, 0.3));\n",
              "      fill: #FFFFFF;\n",
              "    }\n",
              "  </style>\n",
              "\n",
              "      <script>\n",
              "        const buttonEl =\n",
              "          document.querySelector('#df-fc839ef3-bf6c-4aa7-980e-172182ebb296 button.colab-df-convert');\n",
              "        buttonEl.style.display =\n",
              "          google.colab.kernel.accessAllowed ? 'block' : 'none';\n",
              "\n",
              "        async function convertToInteractive(key) {\n",
              "          const element = document.querySelector('#df-fc839ef3-bf6c-4aa7-980e-172182ebb296');\n",
              "          const dataTable =\n",
              "            await google.colab.kernel.invokeFunction('convertToInteractive',\n",
              "                                                     [key], {});\n",
              "          if (!dataTable) return;\n",
              "\n",
              "          const docLinkHtml = 'Like what you see? Visit the ' +\n",
              "            '<a target=\"_blank\" href=https://colab.research.google.com/notebooks/data_table.ipynb>data table notebook</a>'\n",
              "            + ' to learn more about interactive tables.';\n",
              "          element.innerHTML = '';\n",
              "          dataTable['output_type'] = 'display_data';\n",
              "          await google.colab.output.renderOutput(dataTable, element);\n",
              "          const docLink = document.createElement('div');\n",
              "          docLink.innerHTML = docLinkHtml;\n",
              "          element.appendChild(docLink);\n",
              "        }\n",
              "      </script>\n",
              "    </div>\n",
              "  </div>\n",
              "  "
            ]
          },
          "metadata": {},
          "execution_count": 30
        }
      ],
      "source": [
        "reviews = pd.read_csv('complaints_preprocessed.csv').dropna()\n",
        "\n",
        "reviews.head() "
      ]
    },
    {
      "cell_type": "code",
      "source": [
        "reviews['Issue'].value_counts(dropna=False) "
      ],
      "metadata": {
        "colab": {
          "base_uri": "https://localhost:8080/"
        },
        "id": "geC5_2wMWEx6",
        "outputId": "83f46a5c-dd3c-4064-da8b-225f4d9868ea"
      },
      "id": "geC5_2wMWEx6",
      "execution_count": 31,
      "outputs": [
        {
          "output_type": "execute_result",
          "data": {
            "text/plain": [
              "Incorrect information on your report    18609\n",
              "Attempts to collect debt not owed        5169\n",
              "Communication tactics                    1278\n",
              "Struggling to pay mortgage               1184\n",
              "Fraud or scam                             861\n",
              "Name: Issue, dtype: int64"
            ]
          },
          "metadata": {},
          "execution_count": 31
        }
      ]
    },
    {
      "cell_type": "code",
      "execution_count": 32,
      "id": "a2ffb2ce",
      "metadata": {
        "id": "a2ffb2ce"
      },
      "outputs": [],
      "source": [
        "X = reviews[['Consumer complaint narrative']]\n",
        "y = reviews['Issue']\n",
        "\n",
        "le = LabelEncoder().fit(y)\n",
        "y = le.transform(y)\n",
        "\n",
        "X_train_val, X_test, y_train_val, y_test = train_test_split(X, y, random_state = 321, stratify = y)\n",
        "X_train, X_val, y_train, y_val = train_test_split(X_train_val, y_train_val, random_state = 321, stratify = y_train_val)"
      ]
    },
    {
      "cell_type": "code",
      "execution_count": 33,
      "id": "ed22cc9a",
      "metadata": {
        "id": "ed22cc9a"
      },
      "outputs": [],
      "source": [
        "vect = TfidfVectorizer()\n",
        "\n",
        "X_train_vec = vect.fit_transform(X_train['Consumer complaint narrative']).toarray()\n",
        "X_val_vec = vect.transform(X_val['Consumer complaint narrative']).toarray()\n",
        "X_test_vec = vect.transform(X_test['Consumer complaint narrative']).toarray() "
      ]
    },
    {
      "cell_type": "code",
      "execution_count": 34,
      "id": "8f916478",
      "metadata": {
        "id": "8f916478"
      },
      "outputs": [],
      "source": [
        "#Start with a sequential model\n",
        "model = tf.keras.Sequential()\n",
        "\n",
        "# Then add dense layer with relu activation\n",
        "model.add(tf.keras.layers.Dense(units = 256,\n",
        "                                input_shape = (vect.get_feature_names_out().shape[0],),\n",
        "                                activation = 'relu'))\n",
        "# And end with an output layer with sigmoid activation \n",
        "model.add(tf.keras.layers.Dense(5, activation = 'softmax'))\n",
        "\n",
        "# Finally, compile the model\n",
        "model.compile('adam', 'sparse_categorical_crossentropy', metrics=['accuracy'])\n",
        "\n",
        "callback = tf.keras.callbacks.EarlyStopping(monitor='val_loss', patience=3) "
      ]
    },
    {
      "cell_type": "code",
      "execution_count": 35,
      "id": "8ef0ae11",
      "metadata": {
        "colab": {
          "base_uri": "https://localhost:8080/"
        },
        "id": "8ef0ae11",
        "outputId": "e6f01091-77db-45bc-dfb2-a879e20244b8"
      },
      "outputs": [
        {
          "output_type": "stream",
          "name": "stdout",
          "text": [
            "Epoch 1/100\n",
            "477/477 [==============================] - 4s 6ms/step - loss: 0.5158 - accuracy: 0.8185 - val_loss: 0.3564 - val_accuracy: 0.8689\n",
            "Epoch 2/100\n",
            "477/477 [==============================] - 2s 5ms/step - loss: 0.2655 - accuracy: 0.9069 - val_loss: 0.3554 - val_accuracy: 0.8660\n",
            "Epoch 3/100\n",
            "477/477 [==============================] - 3s 5ms/step - loss: 0.1931 - accuracy: 0.9328 - val_loss: 0.3837 - val_accuracy: 0.8605\n",
            "Epoch 4/100\n",
            "477/477 [==============================] - 2s 4ms/step - loss: 0.1447 - accuracy: 0.9494 - val_loss: 0.4223 - val_accuracy: 0.8571\n",
            "Epoch 5/100\n",
            "477/477 [==============================] - 2s 5ms/step - loss: 0.1069 - accuracy: 0.9656 - val_loss: 0.4512 - val_accuracy: 0.8524\n"
          ]
        }
      ],
      "source": [
        "history = model.fit(X_train_vec, y_train,\n",
        "                    validation_data = (X_val_vec, y_val),\n",
        "                    epochs=100, callbacks=[callback])"
      ]
    },
    {
      "cell_type": "code",
      "execution_count": 36,
      "id": "7e855cae",
      "metadata": {
        "colab": {
          "base_uri": "https://localhost:8080/"
        },
        "id": "7e855cae",
        "outputId": "e8eac80b-8034-4709-cb62-e37a73d20fe9"
      },
      "outputs": [
        {
          "output_type": "stream",
          "name": "stdout",
          "text": [
            "212/212 [==============================] - 1s 2ms/step\n"
          ]
        },
        {
          "output_type": "execute_result",
          "data": {
            "text/plain": [
              "array([[ 834,   66,   13,  375,    4],\n",
              "       [  74,  219,    1,   26,    0],\n",
              "       [  12,    3,  183,   17,    0],\n",
              "       [ 363,   17,    5, 4255,   13],\n",
              "       [  10,    3,    0,   27,  256]])"
            ]
          },
          "metadata": {},
          "execution_count": 36
        }
      ],
      "source": [
        "# n.argmax axis = 1\n",
        "y_pred = np.argmax(model.predict(X_test_vec), axis = 1)\n",
        "\n",
        "confusion_matrix(y_test, y_pred) "
      ]
    },
    {
      "cell_type": "code",
      "execution_count": 37,
      "id": "ee1e59cf",
      "metadata": {
        "id": "ee1e59cf",
        "colab": {
          "base_uri": "https://localhost:8080/"
        },
        "outputId": "4002dbbd-f76b-429e-a8ac-6b6e413a51a2"
      },
      "outputs": [
        {
          "output_type": "stream",
          "name": "stdout",
          "text": [
            "              precision    recall  f1-score   support\n",
            "\n",
            "           0       0.65      0.65      0.65      1292\n",
            "           1       0.71      0.68      0.70       320\n",
            "           2       0.91      0.85      0.88       215\n",
            "           3       0.91      0.91      0.91      4653\n",
            "           4       0.94      0.86      0.90       296\n",
            "\n",
            "    accuracy                           0.85      6776\n",
            "   macro avg       0.82      0.79      0.81      6776\n",
            "weighted avg       0.85      0.85      0.85      6776\n",
            "\n"
          ]
        }
      ],
      "source": [
        "print(classification_report(y_test, y_pred))"
      ]
    },
    {
      "cell_type": "code",
      "source": [
        "le.inverse_transform([0]) "
      ],
      "metadata": {
        "colab": {
          "base_uri": "https://localhost:8080/"
        },
        "id": "pD6SdxplYsa6",
        "outputId": "e20856ed-d327-41bf-b8ce-1e86f611d00b"
      },
      "id": "pD6SdxplYsa6",
      "execution_count": 40,
      "outputs": [
        {
          "output_type": "execute_result",
          "data": {
            "text/plain": [
              "array(['Attempts to collect debt not owed'], dtype=object)"
            ]
          },
          "metadata": {},
          "execution_count": 40
        }
      ]
    },
    {
      "cell_type": "code",
      "source": [
        "le.inverse_transform([3]) "
      ],
      "metadata": {
        "colab": {
          "base_uri": "https://localhost:8080/"
        },
        "id": "Q4GRRIE5YXfK",
        "outputId": "34795fd8-0ed7-48d3-a387-caa66b8a1d18"
      },
      "id": "Q4GRRIE5YXfK",
      "execution_count": 39,
      "outputs": [
        {
          "output_type": "execute_result",
          "data": {
            "text/plain": [
              "array(['Incorrect information on your report'], dtype=object)"
            ]
          },
          "metadata": {},
          "execution_count": 39
        }
      ]
    },
    {
      "cell_type": "markdown",
      "id": "89498a10",
      "metadata": {
        "id": "89498a10"
      },
      "source": [
        "Text Classification Using an LSTM"
      ]
    },
    {
      "cell_type": "code",
      "execution_count": 41,
      "id": "5d9c9abc",
      "metadata": {
        "id": "5d9c9abc"
      },
      "outputs": [],
      "source": [
        "X = [[x for x in regexp_tokenize(sentence.lower(), pattern = r\"[a-z]+\")] for sentence in reviews['Consumer complaint narrative'].tolist()] "
      ]
    },
    {
      "cell_type": "code",
      "execution_count": 42,
      "id": "8080d01f",
      "metadata": {
        "id": "8080d01f"
      },
      "outputs": [],
      "source": [
        "tokens = sorted(set([x for sentence in X for x in sentence]))\n",
        "\n",
        "token_index = {word:i + 1 for i, word in enumerate(tokens)}\n",
        "index_token = {i + 1:word for i, word in enumerate(tokens)}\n",
        "\n",
        "# We need to reserve the zero token for when we pad our sequences.\n",
        "vocab_size = len(token_index) + 1"
      ]
    },
    {
      "cell_type": "code",
      "execution_count": 43,
      "id": "e78adc9a",
      "metadata": {
        "id": "e78adc9a"
      },
      "outputs": [],
      "source": [
        "X = [[token_index[word] for word in sentence] for sentence in X]"
      ]
    },
    {
      "cell_type": "code",
      "execution_count": 44,
      "id": "ff30b06e",
      "metadata": {
        "id": "ff30b06e",
        "colab": {
          "base_uri": "https://localhost:8080/"
        },
        "outputId": "79890f20-921c-4040-9ae4-46bf4d9ed761"
      },
      "outputs": [
        {
          "output_type": "execute_result",
          "data": {
            "text/plain": [
              "count    27101.000000\n",
              "mean        79.047895\n",
              "std        101.831073\n",
              "min          1.000000\n",
              "25%         26.000000\n",
              "50%         48.000000\n",
              "75%         93.000000\n",
              "max       2785.000000\n",
              "dtype: float64"
            ]
          },
          "metadata": {},
          "execution_count": 44
        }
      ],
      "source": [
        "pd.Series([len(sentence) for sentence in X]).describe()"
      ]
    },
    {
      "cell_type": "code",
      "execution_count": 45,
      "id": "c67ff388",
      "metadata": {
        "id": "c67ff388"
      },
      "outputs": [],
      "source": [
        "X = tf.keras.preprocessing.sequence.pad_sequences(X, maxlen = 100)"
      ]
    },
    {
      "cell_type": "code",
      "execution_count": 46,
      "id": "cd82c3a1",
      "metadata": {
        "id": "cd82c3a1",
        "colab": {
          "base_uri": "https://localhost:8080/"
        },
        "outputId": "41880ee8-465a-46ba-9fb2-ee69d385b5b5"
      },
      "outputs": [
        {
          "output_type": "execute_result",
          "data": {
            "text/plain": [
              "array([    0,     0,     0,     0,     0,     0,     0,     0,     0,\n",
              "           0,     0,     0,     0,     0,     0,     0,     0,     0,\n",
              "           0,     0,     0,     0,     0,     0,     0,     0,     0,\n",
              "           0,     0,     0,     0,     0,     0,     0,     0,     0,\n",
              "           0,     0,     0,     0,     0,     0,     0,  8538,  2661,\n",
              "        7796,  4572,  8638,  7796, 13080,  9428,  3411,  9557,  9606,\n",
              "         507,  9638,  2635, 14664,  1082, 13650, 14081, 12022, 11560,\n",
              "        8894,  1981, 14081,  9638,  6388,  6740,   790,  5712, 11659,\n",
              "        8298, 12544,  3116,   131,  7328,  7007,  5480, 13577,  2475,\n",
              "        9616, 10312,  2839, 10903,  8664,  5589, 14760,  2804, 10903,\n",
              "         744,  2839, 10903,  3326,  9124,  1215,  9802,  3491,   131,\n",
              "         908], dtype=int32)"
            ]
          },
          "metadata": {},
          "execution_count": 46
        }
      ],
      "source": [
        "X[0]"
      ]
    },
    {
      "cell_type": "code",
      "execution_count": 50,
      "id": "7c9f44e3",
      "metadata": {
        "id": "7c9f44e3"
      },
      "outputs": [],
      "source": [
        "y = reviews['Issue']\n",
        "\n",
        "le = LabelEncoder().fit(y)\n",
        "y = le.transform(y)\n",
        "\n",
        "X_train_val, X_test, y_train_val, y_test = train_test_split(X, y, random_state = 321, stratify = y)\n",
        "X_train, X_val, y_train, y_val = train_test_split(X_train_val, y_train_val, random_state = 321, stratify = y_train_val)"
      ]
    },
    {
      "cell_type": "code",
      "execution_count": 51,
      "id": "5ccae3dd",
      "metadata": {
        "id": "5ccae3dd"
      },
      "outputs": [],
      "source": [
        "lstm_model = tf.keras.models.Sequential()\n",
        "\n",
        "lstm_model.add(tf.keras.layers.Embedding(input_dim = vocab_size, output_dim = 128, mask_zero = True))\n",
        "lstm_model.add(tf.keras.layers.LSTM(32))\n",
        "lstm_model.add(tf.keras.layers.Dense(32))\n",
        "lstm_model.add(tf.keras.layers.Dense(5, activation = 'softmax'))\n",
        "\n",
        "lstm_model.compile(optimizer = 'rmsprop', loss = 'sparse_categorical_crossentropy', metrics=['accuracy'])\n",
        "\n",
        "callback = tf.keras.callbacks.EarlyStopping(monitor='val_loss', patience=3)"
      ]
    },
    {
      "cell_type": "code",
      "execution_count": 52,
      "id": "87f84248",
      "metadata": {
        "id": "87f84248",
        "colab": {
          "base_uri": "https://localhost:8080/"
        },
        "outputId": "cc7167c1-0485-4ec1-938e-c5c0583c070b"
      },
      "outputs": [
        {
          "output_type": "stream",
          "name": "stdout",
          "text": [
            "Epoch 1/100\n",
            "477/477 [==============================] - 164s 333ms/step - loss: 0.6365 - accuracy: 0.7628 - val_loss: 0.5001 - val_accuracy: 0.8160\n",
            "Epoch 2/100\n",
            "477/477 [==============================] - 143s 299ms/step - loss: 0.4120 - accuracy: 0.8501 - val_loss: 0.4115 - val_accuracy: 0.8526\n",
            "Epoch 3/100\n",
            "477/477 [==============================] - 138s 289ms/step - loss: 0.3361 - accuracy: 0.8792 - val_loss: 0.4060 - val_accuracy: 0.8540\n",
            "Epoch 4/100\n",
            "477/477 [==============================] - 139s 292ms/step - loss: 0.3017 - accuracy: 0.8950 - val_loss: 0.4630 - val_accuracy: 0.8481\n",
            "Epoch 5/100\n",
            "477/477 [==============================] - 137s 287ms/step - loss: 0.2755 - accuracy: 0.9042 - val_loss: 0.4372 - val_accuracy: 0.8485\n",
            "Epoch 6/100\n",
            "477/477 [==============================] - 137s 288ms/step - loss: 0.2477 - accuracy: 0.9133 - val_loss: 0.4259 - val_accuracy: 0.8577\n"
          ]
        }
      ],
      "source": [
        "history = lstm_model.fit(X_train, y_train,\n",
        "                    validation_data = (X_val, y_val),\n",
        "                    epochs=100, callbacks=[callback])"
      ]
    },
    {
      "cell_type": "code",
      "execution_count": 54,
      "id": "0ca0268c",
      "metadata": {
        "id": "0ca0268c",
        "colab": {
          "base_uri": "https://localhost:8080/"
        },
        "outputId": "af2c22ee-70fd-4bef-e073-fb8f7d889ed7"
      },
      "outputs": [
        {
          "output_type": "stream",
          "name": "stdout",
          "text": [
            "212/212 [==============================] - 403s 2s/step\n"
          ]
        },
        {
          "output_type": "execute_result",
          "data": {
            "text/plain": [
              "array([[1291,    0,    0,    1,    0],\n",
              "       [ 320,    0,    0,    0,    0],\n",
              "       [ 215,    0,    0,    0,    0],\n",
              "       [4647,    0,    0,    6,    0],\n",
              "       [ 296,    0,    0,    0,    0]])"
            ]
          },
          "metadata": {},
          "execution_count": 54
        }
      ],
      "source": [
        "y_pred = np.argmax(lstm_model.predict(X_test_vec), axis = 1)\n",
        "\n",
        "confusion_matrix(y_test, y_pred)"
      ]
    },
    {
      "cell_type": "code",
      "source": [
        "print(classification_report(y_test, y_pred))"
      ],
      "metadata": {
        "colab": {
          "base_uri": "https://localhost:8080/"
        },
        "id": "tcn2qbbhJ3u8",
        "outputId": "36d933f3-428b-4a1a-fa62-b8c4a2f8803a"
      },
      "id": "tcn2qbbhJ3u8",
      "execution_count": 55,
      "outputs": [
        {
          "output_type": "stream",
          "name": "stdout",
          "text": [
            "              precision    recall  f1-score   support\n",
            "\n",
            "           0       0.19      1.00      0.32      1292\n",
            "           1       0.00      0.00      0.00       320\n",
            "           2       0.00      0.00      0.00       215\n",
            "           3       0.86      0.00      0.00      4653\n",
            "           4       0.00      0.00      0.00       296\n",
            "\n",
            "    accuracy                           0.19      6776\n",
            "   macro avg       0.21      0.20      0.06      6776\n",
            "weighted avg       0.62      0.19      0.06      6776\n",
            "\n"
          ]
        },
        {
          "output_type": "stream",
          "name": "stderr",
          "text": [
            "/usr/local/lib/python3.10/dist-packages/sklearn/metrics/_classification.py:1344: UndefinedMetricWarning: Precision and F-score are ill-defined and being set to 0.0 in labels with no predicted samples. Use `zero_division` parameter to control this behavior.\n",
            "  _warn_prf(average, modifier, msg_start, len(result))\n",
            "/usr/local/lib/python3.10/dist-packages/sklearn/metrics/_classification.py:1344: UndefinedMetricWarning: Precision and F-score are ill-defined and being set to 0.0 in labels with no predicted samples. Use `zero_division` parameter to control this behavior.\n",
            "  _warn_prf(average, modifier, msg_start, len(result))\n",
            "/usr/local/lib/python3.10/dist-packages/sklearn/metrics/_classification.py:1344: UndefinedMetricWarning: Precision and F-score are ill-defined and being set to 0.0 in labels with no predicted samples. Use `zero_division` parameter to control this behavior.\n",
            "  _warn_prf(average, modifier, msg_start, len(result))\n"
          ]
        }
      ]
    },
    {
      "cell_type": "markdown",
      "id": "fc9494aa",
      "metadata": {
        "id": "fc9494aa"
      },
      "source": [
        "LSTM layer Bidirectional"
      ]
    },
    {
      "cell_type": "code",
      "execution_count": 56,
      "id": "852bd5e8",
      "metadata": {
        "id": "852bd5e8"
      },
      "outputs": [],
      "source": [
        "lstm_model = tf.keras.models.Sequential()\n",
        "\n",
        "lstm_model.add(tf.keras.layers.Embedding(input_dim = vocab_size, output_dim = 128, mask_zero = True))\n",
        "lstm_model.add(tf.keras.layers.Bidirectional(tf.keras.layers.LSTM(32)))\n",
        "lstm_model.add(tf.keras.layers.Dense(32))\n",
        "lstm_model.add(tf.keras.layers.Dense(5, activation = 'softmax'))\n",
        "\n",
        "lstm_model.compile(optimizer = 'rmsprop', loss = 'sparse_categorical_crossentropy', metrics=['accuracy'])\n",
        "\n",
        "callback = tf.keras.callbacks.EarlyStopping(monitor='val_loss', patience=3)"
      ]
    },
    {
      "cell_type": "code",
      "execution_count": 57,
      "id": "c2dbbc65",
      "metadata": {
        "id": "c2dbbc65",
        "colab": {
          "base_uri": "https://localhost:8080/"
        },
        "outputId": "f9cb9bc3-6d1e-42ca-83d8-60ec558329f8"
      },
      "outputs": [
        {
          "output_type": "stream",
          "name": "stdout",
          "text": [
            "Epoch 1/100\n",
            "477/477 [==============================] - 277s 564ms/step - loss: 0.5490 - accuracy: 0.7977 - val_loss: 0.4300 - val_accuracy: 0.8444\n",
            "Epoch 2/100\n",
            "477/477 [==============================] - 245s 514ms/step - loss: 0.3601 - accuracy: 0.8692 - val_loss: 0.3775 - val_accuracy: 0.8644\n",
            "Epoch 3/100\n",
            "477/477 [==============================] - 246s 516ms/step - loss: 0.3049 - accuracy: 0.8907 - val_loss: 0.3869 - val_accuracy: 0.8581\n",
            "Epoch 4/100\n",
            "477/477 [==============================] - 247s 518ms/step - loss: 0.2658 - accuracy: 0.9042 - val_loss: 0.4002 - val_accuracy: 0.8615\n",
            "Epoch 5/100\n",
            "477/477 [==============================] - 243s 509ms/step - loss: 0.2335 - accuracy: 0.9150 - val_loss: 0.4750 - val_accuracy: 0.8310\n"
          ]
        }
      ],
      "source": [
        "history = lstm_model.fit(X_train, y_train,\n",
        "                    validation_data = (X_val, y_val),\n",
        "                    epochs=100, callbacks=[callback])"
      ]
    },
    {
      "cell_type": "code",
      "execution_count": 58,
      "id": "e984202d",
      "metadata": {
        "id": "e984202d",
        "colab": {
          "base_uri": "https://localhost:8080/"
        },
        "outputId": "f0ad3c32-c16e-4b0d-bd93-5d4b2e55d6d5"
      },
      "outputs": [
        {
          "output_type": "stream",
          "name": "stdout",
          "text": [
            "212/212 [==============================] - 1069s 5s/step\n"
          ]
        },
        {
          "output_type": "execute_result",
          "data": {
            "text/plain": [
              "array([[ 635,  229,  427,    1,    0],\n",
              "       [ 174,   58,   88,    0,    0],\n",
              "       [  71,   36,  108,    0,    0],\n",
              "       [2368, 1060, 1219,    6,    0],\n",
              "       [  58,   44,  194,    0,    0]])"
            ]
          },
          "metadata": {},
          "execution_count": 58
        }
      ],
      "source": [
        "y_pred = np.argmax(lstm_model.predict(X_test_vec), axis = 1)\n",
        "\n",
        "confusion_matrix(y_test, y_pred) "
      ]
    },
    {
      "cell_type": "code",
      "execution_count": 59,
      "id": "09cd9580",
      "metadata": {
        "id": "09cd9580",
        "colab": {
          "base_uri": "https://localhost:8080/"
        },
        "outputId": "83f0388c-01b7-4c80-a186-15289054ef6c"
      },
      "outputs": [
        {
          "output_type": "stream",
          "name": "stdout",
          "text": [
            "              precision    recall  f1-score   support\n",
            "\n",
            "           0       0.19      0.49      0.28      1292\n",
            "           1       0.04      0.18      0.07       320\n",
            "           2       0.05      0.50      0.10       215\n",
            "           3       0.86      0.00      0.00      4653\n",
            "           4       0.00      0.00      0.00       296\n",
            "\n",
            "    accuracy                           0.12      6776\n",
            "   macro avg       0.23      0.24      0.09      6776\n",
            "weighted avg       0.63      0.12      0.06      6776\n",
            "\n"
          ]
        },
        {
          "output_type": "stream",
          "name": "stderr",
          "text": [
            "/usr/local/lib/python3.10/dist-packages/sklearn/metrics/_classification.py:1344: UndefinedMetricWarning: Precision and F-score are ill-defined and being set to 0.0 in labels with no predicted samples. Use `zero_division` parameter to control this behavior.\n",
            "  _warn_prf(average, modifier, msg_start, len(result))\n",
            "/usr/local/lib/python3.10/dist-packages/sklearn/metrics/_classification.py:1344: UndefinedMetricWarning: Precision and F-score are ill-defined and being set to 0.0 in labels with no predicted samples. Use `zero_division` parameter to control this behavior.\n",
            "  _warn_prf(average, modifier, msg_start, len(result))\n",
            "/usr/local/lib/python3.10/dist-packages/sklearn/metrics/_classification.py:1344: UndefinedMetricWarning: Precision and F-score are ill-defined and being set to 0.0 in labels with no predicted samples. Use `zero_division` parameter to control this behavior.\n",
            "  _warn_prf(average, modifier, msg_start, len(result))\n"
          ]
        }
      ],
      "source": [
        "print(classification_report(y_test, y_pred))"
      ]
    }
  ],
  "metadata": {
    "kernelspec": {
      "display_name": "Python 3 (ipykernel)",
      "language": "python",
      "name": "python3"
    },
    "language_info": {
      "codemirror_mode": {
        "name": "ipython",
        "version": 3
      },
      "file_extension": ".py",
      "mimetype": "text/x-python",
      "name": "python",
      "nbconvert_exporter": "python",
      "pygments_lexer": "ipython3",
      "version": "3.8.5"
    },
    "colab": {
      "provenance": [],
      "gpuType": "T4"
    },
    "accelerator": "GPU",
    "gpuClass": "standard"
  },
  "nbformat": 4,
  "nbformat_minor": 5
}