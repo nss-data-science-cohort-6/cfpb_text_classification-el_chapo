{
 "cells": [
  {
   "cell_type": "code",
   "execution_count": 1,
   "metadata": {},
   "outputs": [],
   "source": [
    "import pandas as pd\n",
    "from sklearn.model_selection import train_test_split\n",
    "from sklearn.metrics import accuracy_score, confusion_matrix\n",
    "import re\n",
    "import numpy as np\n",
    "import matplotlib.pyplot as plt"
   ]
  },
  {
   "cell_type": "code",
   "execution_count": 2,
   "metadata": {},
   "outputs": [
    {
     "data": {
      "text/html": [
       "<div>\n",
       "<style scoped>\n",
       "    .dataframe tbody tr th:only-of-type {\n",
       "        vertical-align: middle;\n",
       "    }\n",
       "\n",
       "    .dataframe tbody tr th {\n",
       "        vertical-align: top;\n",
       "    }\n",
       "\n",
       "    .dataframe thead th {\n",
       "        text-align: right;\n",
       "    }\n",
       "</style>\n",
       "<table border=\"1\" class=\"dataframe\">\n",
       "  <thead>\n",
       "    <tr style=\"text-align: right;\">\n",
       "      <th></th>\n",
       "      <th>Consumer complaint narrative</th>\n",
       "      <th>Issue</th>\n",
       "    </tr>\n",
       "  </thead>\n",
       "  <tbody>\n",
       "    <tr>\n",
       "      <th>0</th>\n",
       "      <td>My name is XXXX XXXX this complaint is not mad...</td>\n",
       "      <td>Incorrect information on your report</td>\n",
       "    </tr>\n",
       "    <tr>\n",
       "      <th>1</th>\n",
       "      <td>I searched on XXXX for XXXXXXXX XXXX  and was ...</td>\n",
       "      <td>Fraud or scam</td>\n",
       "    </tr>\n",
       "    <tr>\n",
       "      <th>2</th>\n",
       "      <td>I have a particular account that is stating th...</td>\n",
       "      <td>Incorrect information on your report</td>\n",
       "    </tr>\n",
       "    <tr>\n",
       "      <th>3</th>\n",
       "      <td>I have not supplied proof under the doctrine o...</td>\n",
       "      <td>Attempts to collect debt not owed</td>\n",
       "    </tr>\n",
       "    <tr>\n",
       "      <th>4</th>\n",
       "      <td>Hello i'm writing regarding account on my cred...</td>\n",
       "      <td>Incorrect information on your report</td>\n",
       "    </tr>\n",
       "  </tbody>\n",
       "</table>\n",
       "</div>"
      ],
      "text/plain": [
       "                        Consumer complaint narrative  \\\n",
       "0  My name is XXXX XXXX this complaint is not mad...   \n",
       "1  I searched on XXXX for XXXXXXXX XXXX  and was ...   \n",
       "2  I have a particular account that is stating th...   \n",
       "3  I have not supplied proof under the doctrine o...   \n",
       "4  Hello i'm writing regarding account on my cred...   \n",
       "\n",
       "                                  Issue  \n",
       "0  Incorrect information on your report  \n",
       "1                         Fraud or scam  \n",
       "2  Incorrect information on your report  \n",
       "3     Attempts to collect debt not owed  \n",
       "4  Incorrect information on your report  "
      ]
     },
     "execution_count": 2,
     "metadata": {},
     "output_type": "execute_result"
    }
   ],
   "source": [
    "data = pd.read_csv('./data/complaints.csv')\n",
    "\n",
    "data.head()"
   ]
  },
  {
   "cell_type": "code",
   "execution_count": 3,
   "metadata": {},
   "outputs": [],
   "source": [
    "data['Consumer complaint narrative'] = data['Consumer complaint narrative'].str.replace(r'\\bX+[\\sX]*\\b', ' ', regex=True)"
   ]
  },
  {
   "cell_type": "code",
   "execution_count": 4,
   "metadata": {},
   "outputs": [],
   "source": [
    "data['Issue_Code'] = data['Issue'].astype('category').cat.codes"
   ]
  },
  {
   "cell_type": "code",
   "execution_count": 5,
   "metadata": {},
   "outputs": [],
   "source": [
    "data = data.rename(columns={'Consumer complaint narrative':'text'})"
   ]
  },
  {
   "cell_type": "code",
   "execution_count": null,
   "metadata": {},
   "outputs": [],
   "source": [
    "X = data[['text']]\n",
    "y = data['Issue_Code']\n",
    "\n",
    "X_train, X_test, y_train, y_test = train_test_split(X, y, random_state = 321, stratify = y)"
   ]
  },
  {
   "cell_type": "code",
   "execution_count": null,
   "metadata": {},
   "outputs": [],
   "source": [
    "from collections import Counter\n",
    "from scipy import sparse\n",
    "from scipy.sparse.linalg import svds\n",
    "import gensim"
   ]
  },
  {
   "cell_type": "code",
   "execution_count": null,
   "metadata": {},
   "outputs": [],
   "source": [
    "review_counter = Counter()\n",
    "\n",
    "for review in X_train['text']:\n",
    "    review_counter.update(gensim.utils.simple_preprocess(review))\n",
    "\n",
    "word_index = {word: i for i, word in enumerate(review_counter.keys())}\n",
    "index_word = {i: word for i, word in enumerate(review_counter.keys())}\n",
    "\n",
    "window_size = 2\n",
    "\n",
    "cooccurrence_counter = Counter()\n",
    "\n",
    "for review in X_train['text']:\n",
    "    # First, tokenize the sentence\n",
    "    sentence = gensim.utils.simple_preprocess(review)\n",
    "    \n",
    "    # Then, we'll build the window around each word\n",
    "    for i, word in enumerate(sentence):\n",
    "        window = sentence[max(0, i-2): i] + sentence[i+1: i+3]\n",
    "\n",
    "        # Then, we'll up the counter value for that pair\n",
    "        for other_word in window:\n",
    "            cooccurrence_counter[(word, other_word)] += 1\n",
    "            \n",
    "\n",
    "# for word in review_counter.keys():\n",
    "#     cooccurrence_counter[(word, word)] += review_counter[word]"
   ]
  },
  {
   "cell_type": "code",
   "execution_count": null,
   "metadata": {},
   "outputs": [],
   "source": [
    "row_idx = []\n",
    "col_idx = []\n",
    "counts = []\n",
    "\n",
    "for (word1, word2) in cooccurrence_counter.keys():\n",
    "    row_idx.append(word_index[word1])\n",
    "    col_idx.append(word_index[word2])\n",
    "    counts.append(cooccurrence_counter[(word1, word2)])\n",
    "\n",
    "cooccurrence_matrix = sparse.csc_matrix((counts, (row_idx, col_idx)), dtype = 'float')\n",
    "\n",
    "dimension = 50\n",
    "\n",
    "U, D, V = svds(cooccurrence_matrix, k = dimension)\n",
    "\n",
    "word_vectors = U * D"
   ]
  }
 ],
 "metadata": {
  "kernelspec": {
   "display_name": "Python 3",
   "language": "python",
   "name": "python3"
  },
  "language_info": {
   "codemirror_mode": {
    "name": "ipython",
    "version": 3
   },
   "file_extension": ".py",
   "mimetype": "text/x-python",
   "name": "python",
   "nbconvert_exporter": "python",
   "pygments_lexer": "ipython3",
   "version": "3.10.9"
  },
  "orig_nbformat": 4
 },
 "nbformat": 4,
 "nbformat_minor": 2
}
